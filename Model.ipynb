{
  "cells": [
    {
      "cell_type": "markdown",
      "metadata": {
        "id": "GPx0AGmxBGEN"
      },
      "source": [
        "# Importing Libraries"
      ]
    },
    {
      "cell_type": "code",
      "execution_count": 137,
      "metadata": {
        "colab": {
          "base_uri": "https://localhost:8080/"
        },
        "collapsed": true,
        "id": "s0rtVwPyBlGJ",
        "outputId": "bb5ed64b-7497-4dc4-cd73-cb0d78c787ec"
      },
      "outputs": [
        {
          "name": "stderr",
          "output_type": "stream",
          "text": [
            "WARNING: Ignoring invalid distribution ~umpy (C:\\Python312\\Lib\\site-packages)\n",
            "WARNING: Ignoring invalid distribution ~umpy (C:\\Python312\\Lib\\site-packages)\n",
            "WARNING: Ignoring invalid distribution ~umpy (C:\\Python312\\Lib\\site-packages)\n",
            "\n",
            "[notice] A new release of pip is available: 25.0 -> 25.0.1\n",
            "[notice] To update, run: python.exe -m pip install --upgrade pip\n"
          ]
        },
        {
          "name": "stdout",
          "output_type": "stream",
          "text": [
            "Requirement already satisfied: xgboost in c:\\python312\\lib\\site-packages (2.1.4)\n",
            "Requirement already satisfied: numpy in c:\\python312\\lib\\site-packages (from xgboost) (2.2.2)\n",
            "Requirement already satisfied: scipy in c:\\python312\\lib\\site-packages (from xgboost) (1.15.1)\n"
          ]
        }
      ],
      "source": [
        "!pip install xgboost"
      ]
    },
    {
      "cell_type": "code",
      "execution_count": null,
      "metadata": {
        "colab": {
          "base_uri": "https://localhost:8080/"
        },
        "id": "GsPS_I7xBGER",
        "outputId": "8da2ab16-27ed-4eb7-a1e1-5e793b0b5d0a"
      },
      "outputs": [],
      "source": [
        "import pandas as pd\n",
        "import numpy as np\n",
        "import matplotlib.pyplot as plt\n",
        "import seaborn as sns\n",
        "from sklearn.ensemble import IsolationForest, RandomForestClassifier\n",
        "from sklearn.feature_selection import mutual_info_classif\n",
        "import copy\n",
        "from sklearn.preprocessing import KBinsDiscretizer\n",
        "from sklearn.metrics import mean_squared_error as mse\n",
        "from utility import *\n",
        "from sklearn.model_selection import cross_val_score"
      ]
    },
    {
      "cell_type": "markdown",
      "metadata": {
        "id": "YaQWPL9gBGEU"
      },
      "source": [
        "## Importing the Data\n",
        "1. TrainData - Original\n",
        "2. TestData - testDf"
      ]
    },
    {
      "cell_type": "code",
      "execution_count": 139,
      "metadata": {
        "id": "4WKoO5LGBGEV"
      },
      "outputs": [],
      "source": [
        "original = pd.read_csv(\"./titanic/train.csv\")\n",
        "testDf = pd.read_csv(\"./titanic/test.csv\")\n",
        "test = copy.deepcopy(testDf)\n",
        "df = copy.deepcopy(original)"
      ]
    },
    {
      "cell_type": "markdown",
      "metadata": {
        "id": "fRlL2RLGBGEX"
      },
      "source": [
        "## Exploratory Data Analysis\n",
        "Types of Data:\n",
        "1. Continuous Data\n",
        "   1. Age\n",
        "   2. Fare\n",
        "2. Discrete Data\n",
        "   1. Survived\n",
        "   2. SibSp\n",
        "   3. Parch\n",
        "   4. PassengerId\n",
        "3. Categorical Data\n",
        "   1. Name\n",
        "   2. Pclass\n",
        "   3. Cabin\n",
        "   4. Embarked\n",
        "   5. Sex\n",
        "   6. Ticket\n",
        "\n",
        "![image.png](attachment:330bac07-c0a3-4fb3-a616-b64a7d6617eb.png)\n",
        "![image.png](attachment:35db6205-e342-429d-8b0e-53b2c388c43c.png)\n",
        "![image.png](attachment:c8eb2c98-3a62-4045-b958-318db589c437.png)"
      ]
    },
    {
      "cell_type": "markdown",
      "metadata": {
        "id": "CooOmP2VBGEY"
      },
      "source": [
        "## Handling Missing Values\n",
        "1. Cabin\n",
        "2. Embarked\n",
        "3. Age"
      ]
    },
    {
      "cell_type": "code",
      "execution_count": 140,
      "metadata": {
        "colab": {
          "base_uri": "https://localhost:8080/"
        },
        "id": "W2DqgPJZBGEZ",
        "outputId": "2e32c398-f664-4249-94a3-d956444c2141"
      },
      "outputs": [
        {
          "name": "stdout",
          "output_type": "stream",
          "text": [
            "[LightGBM] [Info] Auto-choosing row-wise multi-threading, the overhead of testing was 0.000082 seconds.\n",
            "You can set `force_row_wise=true` to remove the overhead.\n",
            "And if memory is not enough, you can set `force_col_wise=true`.\n",
            "[LightGBM] [Info] Total Bins 140\n",
            "[LightGBM] [Info] Number of data points in the train set: 712, number of used features: 6\n",
            "[LightGBM] [Info] Start training from score 29.642093\n",
            "[LightGBM] [Warning] No further splits with positive gain, best gain: -inf\n",
            "[LightGBM] [Warning] No further splits with positive gain, best gain: -inf\n",
            "[LightGBM] [Warning] No further splits with positive gain, best gain: -inf\n",
            "[LightGBM] [Warning] No further splits with positive gain, best gain: -inf\n",
            "[LightGBM] [Warning] No further splits with positive gain, best gain: -inf\n",
            "[LightGBM] [Warning] No further splits with positive gain, best gain: -inf\n",
            "[LightGBM] [Warning] No further splits with positive gain, best gain: -inf\n",
            "[LightGBM] [Warning] No further splits with positive gain, best gain: -inf\n",
            "[LightGBM] [Warning] No further splits with positive gain, best gain: -inf\n",
            "[LightGBM] [Warning] No further splits with positive gain, best gain: -inf\n",
            "[LightGBM] [Warning] No further splits with positive gain, best gain: -inf\n",
            "[LightGBM] [Warning] No further splits with positive gain, best gain: -inf\n",
            "[LightGBM] [Warning] No further splits with positive gain, best gain: -inf\n",
            "[LightGBM] [Warning] No further splits with positive gain, best gain: -inf\n",
            "[LightGBM] [Warning] No further splits with positive gain, best gain: -inf\n",
            "[LightGBM] [Warning] No further splits with positive gain, best gain: -inf\n",
            "[LightGBM] [Warning] No further splits with positive gain, best gain: -inf\n",
            "[LightGBM] [Warning] No further splits with positive gain, best gain: -inf\n",
            "[LightGBM] [Warning] No further splits with positive gain, best gain: -inf\n",
            "[LightGBM] [Warning] No further splits with positive gain, best gain: -inf\n",
            "[LightGBM] [Warning] No further splits with positive gain, best gain: -inf\n",
            "[LightGBM] [Warning] No further splits with positive gain, best gain: -inf\n",
            "[LightGBM] [Warning] No further splits with positive gain, best gain: -inf\n",
            "[LightGBM] [Warning] No further splits with positive gain, best gain: -inf\n",
            "[LightGBM] [Warning] No further splits with positive gain, best gain: -inf\n",
            "[LightGBM] [Warning] No further splits with positive gain, best gain: -inf\n",
            "[LightGBM] [Warning] No further splits with positive gain, best gain: -inf\n",
            "[LightGBM] [Warning] No further splits with positive gain, best gain: -inf\n",
            "[LightGBM] [Warning] No further splits with positive gain, best gain: -inf\n",
            "[LightGBM] [Warning] No further splits with positive gain, best gain: -inf\n",
            "[LightGBM] [Warning] No further splits with positive gain, best gain: -inf\n",
            "[LightGBM] [Warning] No further splits with positive gain, best gain: -inf\n",
            "[LightGBM] [Warning] No further splits with positive gain, best gain: -inf\n",
            "[LightGBM] [Warning] No further splits with positive gain, best gain: -inf\n",
            "[LightGBM] [Warning] No further splits with positive gain, best gain: -inf\n",
            "[LightGBM] [Warning] No further splits with positive gain, best gain: -inf\n",
            "[LightGBM] [Warning] No further splits with positive gain, best gain: -inf\n",
            "[LightGBM] [Warning] No further splits with positive gain, best gain: -inf\n",
            "[LightGBM] [Warning] No further splits with positive gain, best gain: -inf\n",
            "[LightGBM] [Warning] No further splits with positive gain, best gain: -inf\n",
            "[LightGBM] [Warning] No further splits with positive gain, best gain: -inf\n",
            "[LightGBM] [Warning] No further splits with positive gain, best gain: -inf\n",
            "[LightGBM] [Warning] No further splits with positive gain, best gain: -inf\n",
            "[LightGBM] [Warning] No further splits with positive gain, best gain: -inf\n",
            "[LightGBM] [Warning] No further splits with positive gain, best gain: -inf\n",
            "[LightGBM] [Warning] No further splits with positive gain, best gain: -inf\n",
            "[LightGBM] [Warning] No further splits with positive gain, best gain: -inf\n",
            "[LightGBM] [Warning] No further splits with positive gain, best gain: -inf\n",
            "[LightGBM] [Warning] No further splits with positive gain, best gain: -inf\n",
            "[LightGBM] [Warning] No further splits with positive gain, best gain: -inf\n",
            "[LightGBM] [Warning] No further splits with positive gain, best gain: -inf\n",
            "[LightGBM] [Warning] No further splits with positive gain, best gain: -inf\n",
            "[LightGBM] [Warning] No further splits with positive gain, best gain: -inf\n",
            "[LightGBM] [Warning] No further splits with positive gain, best gain: -inf\n",
            "[LightGBM] [Warning] No further splits with positive gain, best gain: -inf\n",
            "[LightGBM] [Warning] No further splits with positive gain, best gain: -inf\n",
            "[LightGBM] [Warning] No further splits with positive gain, best gain: -inf\n",
            "[LightGBM] [Warning] No further splits with positive gain, best gain: -inf\n",
            "[LightGBM] [Warning] No further splits with positive gain, best gain: -inf\n",
            "[LightGBM] [Warning] No further splits with positive gain, best gain: -inf\n",
            "[LightGBM] [Warning] No further splits with positive gain, best gain: -inf\n",
            "[LightGBM] [Warning] No further splits with positive gain, best gain: -inf\n",
            "[LightGBM] [Warning] No further splits with positive gain, best gain: -inf\n",
            "[LightGBM] [Warning] No further splits with positive gain, best gain: -inf\n",
            "[LightGBM] [Warning] No further splits with positive gain, best gain: -inf\n",
            "[LightGBM] [Warning] No further splits with positive gain, best gain: -inf\n",
            "[LightGBM] [Warning] No further splits with positive gain, best gain: -inf\n",
            "[LightGBM] [Warning] No further splits with positive gain, best gain: -inf\n",
            "[LightGBM] [Warning] No further splits with positive gain, best gain: -inf\n",
            "[LightGBM] [Warning] No further splits with positive gain, best gain: -inf\n",
            "[LightGBM] [Warning] No further splits with positive gain, best gain: -inf\n",
            "[LightGBM] [Warning] No further splits with positive gain, best gain: -inf\n",
            "[LightGBM] [Warning] No further splits with positive gain, best gain: -inf\n",
            "[LightGBM] [Warning] No further splits with positive gain, best gain: -inf\n",
            "[LightGBM] [Warning] No further splits with positive gain, best gain: -inf\n",
            "[LightGBM] [Warning] No further splits with positive gain, best gain: -inf\n",
            "[LightGBM] [Warning] No further splits with positive gain, best gain: -inf\n",
            "[LightGBM] [Warning] No further splits with positive gain, best gain: -inf\n",
            "[LightGBM] [Warning] No further splits with positive gain, best gain: -inf\n",
            "[LightGBM] [Warning] No further splits with positive gain, best gain: -inf\n",
            "[LightGBM] [Warning] No further splits with positive gain, best gain: -inf\n",
            "[LightGBM] [Warning] No further splits with positive gain, best gain: -inf\n",
            "[LightGBM] [Warning] No further splits with positive gain, best gain: -inf\n",
            "[LightGBM] [Warning] No further splits with positive gain, best gain: -inf\n",
            "[LightGBM] [Warning] No further splits with positive gain, best gain: -inf\n",
            "[LightGBM] [Warning] No further splits with positive gain, best gain: -inf\n",
            "[LightGBM] [Warning] No further splits with positive gain, best gain: -inf\n",
            "[LightGBM] [Warning] No further splits with positive gain, best gain: -inf\n",
            "[LightGBM] [Warning] No further splits with positive gain, best gain: -inf\n",
            "[LightGBM] [Warning] No further splits with positive gain, best gain: -inf\n",
            "[LightGBM] [Warning] No further splits with positive gain, best gain: -inf\n",
            "[LightGBM] [Warning] No further splits with positive gain, best gain: -inf\n",
            "[LightGBM] [Warning] No further splits with positive gain, best gain: -inf\n",
            "[LightGBM] [Warning] No further splits with positive gain, best gain: -inf\n",
            "[LightGBM] [Warning] No further splits with positive gain, best gain: -inf\n",
            "[LightGBM] [Warning] No further splits with positive gain, best gain: -inf\n",
            "[LightGBM] [Warning] No further splits with positive gain, best gain: -inf\n",
            "[LightGBM] [Warning] No further splits with positive gain, best gain: -inf\n",
            "[LightGBM] [Warning] No further splits with positive gain, best gain: -inf\n",
            "[LightGBM] [Warning] No further splits with positive gain, best gain: -inf\n"
          ]
        }
      ],
      "source": [
        "# Processing the Data to remove columns with >= 50% missing values and removing rows forming <= 5% missing values.\n",
        "# Dropping highly variable columns of Ticket, Name, PassengerId\n",
        "# Factorizing the remaining categorical data - LabelEncoder\n",
        "# This data point in Fare was missing, instead of making a whole model to impute the value, I replaced it with mode\n",
        "test.loc[test['Fare'].isna(), 'Fare'] = 7.812\n",
        "df = process_data(df)\n",
        "# Using Linear Regression to impute Ages.\n",
        "X_train, Y_train, X_test = create_splits(df.drop('Survived', axis = 1), \"Age\")\n",
        "# Better if we dont exclude Survived, but had to do for testData\n",
        "model = train_model(X_train, Y_train)\n",
        "df = impute_age(df, \"Age\", X_test, model)\n",
        "test = process_data(test)\n",
        "X_train, Y_train, X_test = create_splits(test, \"Age\")\n",
        "test = impute_age(test, \"Age\", X_test, model)\n"
      ]
    },
    {
      "cell_type": "markdown",
      "metadata": {
        "id": "AecNtorgBGEb"
      },
      "source": [
        "## Handling Duplicates"
      ]
    },
    {
      "cell_type": "code",
      "execution_count": 141,
      "metadata": {
        "id": "F7EO21z1BGEb"
      },
      "outputs": [],
      "source": [
        "df = remove_duplicates(df)"
      ]
    },
    {
      "cell_type": "markdown",
      "metadata": {
        "id": "PiNaHHBwBGEc"
      },
      "source": [
        "## Outlier Detection\n",
        "1. Univariate Outliers\n",
        "2. Multivariate Outliers"
      ]
    },
    {
      "cell_type": "code",
      "execution_count": 142,
      "metadata": {
        "colab": {
          "base_uri": "https://localhost:8080/",
          "height": 1000
        },
        "id": "QIOcXmrLBGEc",
        "outputId": "74ea17d7-e219-433c-d60e-14e0f0a06c31"
      },
      "outputs": [
        {
          "name": "stdout",
          "output_type": "stream",
          "text": [
            "SibSp Value Count:  SibSp\n",
            "0    505\n",
            "1    201\n",
            "2     27\n",
            "4     18\n",
            "3     14\n",
            "5      5\n",
            "8      2\n",
            "Name: count, dtype: int64\n",
            "Parch Value Count:  Parch\n",
            "0    568\n",
            "1    114\n",
            "2     75\n",
            "5      5\n",
            "3      5\n",
            "4      4\n",
            "6      1\n",
            "Name: count, dtype: int64\n"
          ]
        },
        {
          "data": {
            "image/png": "[encoded data removed]",
            "text/plain": [
              "<Figure size 300x300 with 1 Axes>"
            ]
          },
          "metadata": {},
          "output_type": "display_data"
        },
        {
          "data": {
            "image/png": "[encoded data removed]",
            "text/plain": [
              "<Figure size 300x300 with 1 Axes>"
            ]
          },
          "metadata": {},
          "output_type": "display_data"
        },
        {
          "name": "stdout",
          "output_type": "stream",
          "text": [
            "SibSp  : \n"
          ]
        },
        {
          "data": {
            "image/png": "[encoded data removed]",
            "text/plain": [
              "<Figure size 640x480 with 1 Axes>"
            ]
          },
          "metadata": {},
          "output_type": "display_data"
        },
        {
          "name": "stdout",
          "output_type": "stream",
          "text": [
            "Parch  : \n"
          ]
        },
        {
          "data": {
            "image/png": "[encoded data removed]",
            "text/plain": [
              "<Figure size 640x480 with 1 Axes>"
            ]
          },
          "metadata": {},
          "output_type": "display_data"
        }
      ],
      "source": [
        "# SibSp and Parch are discrete, so we can also cap them or remove them to certain level.. I am using Percentiles to cap according to my domain knowledge\n",
        "# The Data is highly skewed, therefore, IQR method will not work on it. As we cannot numericalize it. So we will go with Percentiles\n",
        "cols = ['SibSp', \"Parch\"]\n",
        "print('SibSp Value Count: ', df['SibSp'].value_counts())\n",
        "print('Parch Value Count: ', df['Parch'].value_counts())\n",
        "box_plot(df, cols)\n",
        "dist_plot(df, cols)"
      ]
    },
    {
      "cell_type": "code",
      "execution_count": 143,
      "metadata": {},
      "outputs": [
        {
          "name": "stdout",
          "output_type": "stream",
          "text": [
            "SibSp Value Count:  SibSp\n",
            "0    505\n",
            "1    201\n",
            "2     27\n",
            "4     18\n",
            "3     14\n",
            "5      5\n",
            "8      2\n",
            "Name: count, dtype: int64\n",
            "Parch Value Count:  Parch\n",
            "0    568\n",
            "1    114\n",
            "2     75\n",
            "5      5\n",
            "3      5\n",
            "4      4\n",
            "6      1\n",
            "Name: count, dtype: int64\n"
          ]
        },
        {
          "data": {
            "image/png": "[encoded data removed]",
            "text/plain": [
              "<Figure size 300x300 with 1 Axes>"
            ]
          },
          "metadata": {},
          "output_type": "display_data"
        },
        {
          "data": {
            "image/png": "[encoded data removed]",
            "text/plain": [
              "<Figure size 300x300 with 1 Axes>"
            ]
          },
          "metadata": {},
          "output_type": "display_data"
        },
        {
          "name": "stdout",
          "output_type": "stream",
          "text": [
            "SibSp  : \n"
          ]
        },
        {
          "data": {
            "image/png": "[encoded data removed]",
            "text/plain": [
              "<Figure size 640x480 with 1 Axes>"
            ]
          },
          "metadata": {},
          "output_type": "display_data"
        },
        {
          "name": "stdout",
          "output_type": "stream",
          "text": [
            "Parch  : \n"
          ]
        },
        {
          "data": {
            "image/png": "[encoded data removed]",
            "text/plain": [
              "<Figure size 640x480 with 1 Axes>"
            ]
          },
          "metadata": {},
          "output_type": "display_data"
        }
      ],
      "source": [
        "# SibSp and Parch are discrete, so we can also cap them or remove them to certain level.. I am using Percentiles to cap according to my domain knowledge\n",
        "# The Data is highly skewed, therefore, IQR method will not work on it. As we cannot numericalize it. So we will go with Percentiles\n",
        "cols = ['SibSp', \"Parch\"]\n",
        "print('SibSp Value Count: ', df['SibSp'].value_counts())\n",
        "print('Parch Value Count: ', df['Parch'].value_counts())\n",
        "box_plot(df, cols)\n",
        "dist_plot(df, cols)"
      ]
    },
    {
      "cell_type": "code",
      "execution_count": 144,
      "metadata": {
        "colab": {
          "base_uri": "https://localhost:8080/"
        },
        "id": "cjQQZcm4BGEd",
        "outputId": "ac161983-cfb8-40de-e61e-d344e6e9377a"
      },
      "outputs": [
        {
          "name": "stdout",
          "output_type": "stream",
          "text": [
            "Upper Limit for SibSp:  4.0\n"
          ]
        }
      ],
      "source": [
        "# According to me, the SibSp can be capped at 97.5 percentile\n",
        "upper_limit = np.percentile(df['SibSp'], 97.5)\n",
        "print(\"Upper Limit for SibSp: \", upper_limit)\n",
        "valuesToBeCapped = np.where(df[\"SibSp\"] > upper_limit)[0]\n",
        "df.loc[valuesToBeCapped, \"SibSp\"] = 4"
      ]
    },
    {
      "cell_type": "code",
      "execution_count": 145,
      "metadata": {
        "colab": {
          "base_uri": "https://localhost:8080/"
        },
        "id": "U7N_QdiABGEd",
        "outputId": "1c14d0cb-9b14-47eb-c854-1cb0460005b1"
      },
      "outputs": [
        {
          "name": "stdout",
          "output_type": "stream",
          "text": [
            "Upper Limit for Parch:  3.0\n"
          ]
        }
      ],
      "source": [
        "# Same thing for Parch\n",
        "# According to my knowledge, best answer was 4 after deeply analyzing the data and seeing the graphs\n",
        "upper_limit = np.percentile(df['Parch'], 98.5)\n",
        "print(\"Upper Limit for Parch: \", upper_limit)\n",
        "valuesToBeCapped = np.where(df[\"Parch\"]>upper_limit)[0]\n",
        "df.loc[valuesToBeCapped, \"Parch\"] = 4\n"
      ]
    },
    {
      "cell_type": "markdown",
      "metadata": {
        "id": "D8kC1eiFBGEe"
      },
      "source": [
        "### Continuous Data"
      ]
    },
    {
      "cell_type": "code",
      "execution_count": 146,
      "metadata": {
        "colab": {
          "base_uri": "https://localhost:8080/",
          "height": 990
        },
        "id": "g_OEf15XBGEe",
        "outputId": "7289676a-8eab-4ed6-d1d0-557040a842d4"
      },
      "outputs": [
        {
          "name": "stderr",
          "output_type": "stream",
          "text": [
            "c:\\Python312\\Lib\\site-packages\\pandas\\core\\arraylike.py:399: RuntimeWarning: divide by zero encountered in log\n",
            "  result = getattr(ufunc, method)(*inputs, **kwargs)\n"
          ]
        },
        {
          "data": {
            "image/png": "[encoded data removed]",
            "text/plain": [
              "<Figure size 300x300 with 1 Axes>"
            ]
          },
          "metadata": {},
          "output_type": "display_data"
        },
        {
          "name": "stdout",
          "output_type": "stream",
          "text": [
            "Log_transformed_Fare Per Person  : \n"
          ]
        },
        {
          "data": {
            "image/png": "[encoded data removed]",
            "text/plain": [
              "<Figure size 640x480 with 1 Axes>"
            ]
          },
          "metadata": {},
          "output_type": "display_data"
        },
        {
          "data": {
            "application/vnd.microsoft.datawrangler.viewer.v0+json": {
              "columns": [
                {
                  "name": "index",
                  "rawType": "int64",
                  "type": "integer"
                },
                {
                  "name": "Survived",
                  "rawType": "int64",
                  "type": "integer"
                },
                {
                  "name": "Pclass",
                  "rawType": "int64",
                  "type": "integer"
                },
                {
                  "name": "Sex",
                  "rawType": "int64",
                  "type": "integer"
                },
                {
                  "name": "Age",
                  "rawType": "float64",
                  "type": "float"
                },
                {
                  "name": "SibSp",
                  "rawType": "int64",
                  "type": "integer"
                },
                {
                  "name": "Parch",
                  "rawType": "int64",
                  "type": "integer"
                },
                {
                  "name": "Fare",
                  "rawType": "float64",
                  "type": "float"
                },
                {
                  "name": "Embarked",
                  "rawType": "int64",
                  "type": "integer"
                },
                {
                  "name": "Fare Per Person",
                  "rawType": "float64",
                  "type": "float"
                },
                {
                  "name": "Log_transformed_Fare Per Person",
                  "rawType": "float64",
                  "type": "float"
                }
              ],
              "conversionMethod": "pd.DataFrame",
              "ref": "17baf7ec-e4fb-4af5-a6de-4e82d556143c",
              "rows": [
                [
                  "0",
                  "0",
                  "3",
                  "0",
                  "22.0",
                  "1",
                  "0",
                  "7.25",
                  "0",
                  "3.625",
                  "1.2878542883066382"
                ],
                [
                  "1",
                  "1",
                  "1",
                  "1",
                  "38.0",
                  "1",
                  "0",
                  "71.2833",
                  "1",
                  "35.64165",
                  "3.5735148978272644"
                ],
                [
                  "2",
                  "1",
                  "3",
                  "1",
                  "26.0",
                  "0",
                  "0",
                  "7.925",
                  "0",
                  "7.925",
                  "2.0700223197633445"
                ],
                [
                  "3",
                  "1",
                  "1",
                  "1",
                  "35.0",
                  "1",
                  "0",
                  "53.1",
                  "0",
                  "26.55",
                  "3.279029747687948"
                ],
                [
                  "4",
                  "0",
                  "3",
                  "0",
                  "35.0",
                  "0",
                  "0",
                  "8.05",
                  "0",
                  "8.05",
                  "2.0856720914304723"
                ]
              ],
              "shape": {
                "columns": 10,
                "rows": 5
              }
            },
            "text/html": [
              "<div>\n",
              "<style scoped>\n",
              "    .dataframe tbody tr th:only-of-type {\n",
              "        vertical-align: middle;\n",
              "    }\n",
              "\n",
              "    .dataframe tbody tr th {\n",
              "        vertical-align: top;\n",
              "    }\n",
              "\n",
              "    .dataframe thead th {\n",
              "        text-align: right;\n",
              "    }\n",
              "</style>\n",
              "<table border=\"1\" class=\"dataframe\">\n",
              "  <thead>\n",
              "    <tr style=\"text-align: right;\">\n",
              "      <th></th>\n",
              "      <th>Survived</th>\n",
              "      <th>Pclass</th>\n",
              "      <th>Sex</th>\n",
              "      <th>Age</th>\n",
              "      <th>SibSp</th>\n",
              "      <th>Parch</th>\n",
              "      <th>Fare</th>\n",
              "      <th>Embarked</th>\n",
              "      <th>Fare Per Person</th>\n",
              "      <th>Log_transformed_Fare Per Person</th>\n",
              "    </tr>\n",
              "  </thead>\n",
              "  <tbody>\n",
              "    <tr>\n",
              "      <th>0</th>\n",
              "      <td>0</td>\n",
              "      <td>3</td>\n",
              "      <td>0</td>\n",
              "      <td>22.0</td>\n",
              "      <td>1</td>\n",
              "      <td>0</td>\n",
              "      <td>7.2500</td>\n",
              "      <td>0</td>\n",
              "      <td>3.62500</td>\n",
              "      <td>1.287854</td>\n",
              "    </tr>\n",
              "    <tr>\n",
              "      <th>1</th>\n",
              "      <td>1</td>\n",
              "      <td>1</td>\n",
              "      <td>1</td>\n",
              "      <td>38.0</td>\n",
              "      <td>1</td>\n",
              "      <td>0</td>\n",
              "      <td>71.2833</td>\n",
              "      <td>1</td>\n",
              "      <td>35.64165</td>\n",
              "      <td>3.573515</td>\n",
              "    </tr>\n",
              "    <tr>\n",
              "      <th>2</th>\n",
              "      <td>1</td>\n",
              "      <td>3</td>\n",
              "      <td>1</td>\n",
              "      <td>26.0</td>\n",
              "      <td>0</td>\n",
              "      <td>0</td>\n",
              "      <td>7.9250</td>\n",
              "      <td>0</td>\n",
              "      <td>7.92500</td>\n",
              "      <td>2.070022</td>\n",
              "    </tr>\n",
              "    <tr>\n",
              "      <th>3</th>\n",
              "      <td>1</td>\n",
              "      <td>1</td>\n",
              "      <td>1</td>\n",
              "      <td>35.0</td>\n",
              "      <td>1</td>\n",
              "      <td>0</td>\n",
              "      <td>53.1000</td>\n",
              "      <td>0</td>\n",
              "      <td>26.55000</td>\n",
              "      <td>3.279030</td>\n",
              "    </tr>\n",
              "    <tr>\n",
              "      <th>4</th>\n",
              "      <td>0</td>\n",
              "      <td>3</td>\n",
              "      <td>0</td>\n",
              "      <td>35.0</td>\n",
              "      <td>0</td>\n",
              "      <td>0</td>\n",
              "      <td>8.0500</td>\n",
              "      <td>0</td>\n",
              "      <td>8.05000</td>\n",
              "      <td>2.085672</td>\n",
              "    </tr>\n",
              "  </tbody>\n",
              "</table>\n",
              "</div>"
            ],
            "text/plain": [
              "   Survived  Pclass  Sex   Age  SibSp  Parch     Fare  Embarked  \\\n",
              "0         0       3    0  22.0      1      0   7.2500         0   \n",
              "1         1       1    1  38.0      1      0  71.2833         1   \n",
              "2         1       3    1  26.0      0      0   7.9250         0   \n",
              "3         1       1    1  35.0      1      0  53.1000         0   \n",
              "4         0       3    0  35.0      0      0   8.0500         0   \n",
              "\n",
              "   Fare Per Person  Log_transformed_Fare Per Person  \n",
              "0          3.62500                         1.287854  \n",
              "1         35.64165                         3.573515  \n",
              "2          7.92500                         2.070022  \n",
              "3         26.55000                         3.279030  \n",
              "4          8.05000                         2.085672  "
            ]
          },
          "execution_count": 146,
          "metadata": {},
          "output_type": "execute_result"
        }
      ],
      "source": [
        "# I created another feature to get better idea, and applied log to normalize the data as the data for fare was also skewed, in order to perform IQR\n",
        "# I transformed into log data.\n",
        "df['Fare Per Person'] = df[\"Fare\"]/(df[\"SibSp\"]+df['Parch'] + 1)\n",
        "df = transform_log(df, 'Fare Per Person')\n",
        "col = ['Log_transformed_Fare Per Person']\n",
        "box_plot(df, col)\n",
        "dist_plot(df, col)\n",
        "col = 'Log_transformed_Fare Per Person'\n",
        "lower_limit, upper_limit = calc_iqr(df, col)\n",
        "data = copy.deepcopy(df)\n",
        "data = data[(data[col] < upper_limit)]\n",
        "# 4 is the most suitable lowerLimit after analyzing the data\n",
        "data = data[data['Fare'] >= 4]\n",
        "data.reset_index(drop = True, inplace = True)\n",
        "data.head()"
      ]
    },
    {
      "cell_type": "code",
      "execution_count": 147,
      "metadata": {
        "colab": {
          "base_uri": "https://localhost:8080/",
          "height": 309
        },
        "id": "Tcf-rT5RBGEe",
        "outputId": "bd701395-b41f-46dd-c8e1-344ec032c90f"
      },
      "outputs": [
        {
          "data": {
            "image/png": "[encoded data removed]",
            "text/plain": [
              "<Figure size 300x300 with 1 Axes>"
            ]
          },
          "metadata": {},
          "output_type": "display_data"
        },
        {
          "name": "stdout",
          "output_type": "stream",
          "text": [
            "Upper Limit for Age: 63.5\n"
          ]
        }
      ],
      "source": [
        "col = ['Age']\n",
        "box_plot(data, col)\n",
        "stanD = data['Age'].std()\n",
        "meanD = data['Age'].mean()\n",
        "cappedValue = meanD + 3*stanD\n",
        "lower_limit, upper_limit = calc_iqr(data, \"Age\")\n",
        "print(\"Upper Limit for Age:\", upper_limit)\n",
        "valuesToBeCapped = np.where(data[col] > 65)[0]\n",
        "data.loc[valuesToBeCapped, \"Age\"] = cappedValue"
      ]
    },
    {
      "cell_type": "markdown",
      "metadata": {
        "id": "Mt4CH6BJBGEf"
      },
      "source": [
        "## We are done with univariate, now its time for multivariate Outliers.\n",
        "I have used Isolation Forest, but have to preprocess as it only accepts numerical data. I have not used other techniques such as Mahalanobis Distance because it requires normal distribution data"
      ]
    },
    {
      "cell_type": "code",
      "execution_count": 148,
      "metadata": {
        "colab": {
          "base_uri": "https://localhost:8080/",
          "height": 261
        },
        "id": "ew8zeuxVBGEg",
        "outputId": "57dbcd76-6fe6-4abd-81a2-69ca13fc9314"
      },
      "outputs": [
        {
          "data": {
            "application/vnd.microsoft.datawrangler.viewer.v0+json": {
              "columns": [
                {
                  "name": "index",
                  "rawType": "int64",
                  "type": "integer"
                },
                {
                  "name": "Survived",
                  "rawType": "int64",
                  "type": "integer"
                },
                {
                  "name": "Pclass",
                  "rawType": "int64",
                  "type": "integer"
                },
                {
                  "name": "Age",
                  "rawType": "float64",
                  "type": "float"
                },
                {
                  "name": "SibSp",
                  "rawType": "int64",
                  "type": "integer"
                },
                {
                  "name": "Parch",
                  "rawType": "int64",
                  "type": "integer"
                },
                {
                  "name": "Fare",
                  "rawType": "float64",
                  "type": "float"
                },
                {
                  "name": "Fare Per Person",
                  "rawType": "float64",
                  "type": "float"
                },
                {
                  "name": "Log_transformed_Fare Per Person",
                  "rawType": "float64",
                  "type": "float"
                },
                {
                  "name": "Embarked_0",
                  "rawType": "bool",
                  "type": "boolean"
                },
                {
                  "name": "Embarked_1",
                  "rawType": "bool",
                  "type": "boolean"
                },
                {
                  "name": "Embarked_2",
                  "rawType": "bool",
                  "type": "boolean"
                },
                {
                  "name": "Sex_0",
                  "rawType": "bool",
                  "type": "boolean"
                },
                {
                  "name": "Sex_1",
                  "rawType": "bool",
                  "type": "boolean"
                }
              ],
              "conversionMethod": "pd.DataFrame",
              "ref": "a1728202-7b12-4fb6-84b9-89bd6bce22de",
              "rows": [
                [
                  "0",
                  "0",
                  "3",
                  "22.0",
                  "1",
                  "0",
                  "7.25",
                  "3.625",
                  "1.2878542883066382",
                  "True",
                  "False",
                  "False",
                  "True",
                  "False"
                ],
                [
                  "1",
                  "1",
                  "1",
                  "38.0",
                  "1",
                  "0",
                  "71.2833",
                  "35.64165",
                  "3.5735148978272644",
                  "False",
                  "True",
                  "False",
                  "False",
                  "True"
                ],
                [
                  "2",
                  "1",
                  "3",
                  "26.0",
                  "0",
                  "0",
                  "7.925",
                  "7.925",
                  "2.0700223197633445",
                  "True",
                  "False",
                  "False",
                  "False",
                  "True"
                ],
                [
                  "3",
                  "1",
                  "1",
                  "35.0",
                  "1",
                  "0",
                  "53.1",
                  "26.55",
                  "3.279029747687948",
                  "True",
                  "False",
                  "False",
                  "False",
                  "True"
                ],
                [
                  "4",
                  "0",
                  "3",
                  "35.0",
                  "0",
                  "0",
                  "8.05",
                  "8.05",
                  "2.0856720914304723",
                  "True",
                  "False",
                  "False",
                  "True",
                  "False"
                ]
              ],
              "shape": {
                "columns": 13,
                "rows": 5
              }
            },
            "text/html": [
              "<div>\n",
              "<style scoped>\n",
              "    .dataframe tbody tr th:only-of-type {\n",
              "        vertical-align: middle;\n",
              "    }\n",
              "\n",
              "    .dataframe tbody tr th {\n",
              "        vertical-align: top;\n",
              "    }\n",
              "\n",
              "    .dataframe thead th {\n",
              "        text-align: right;\n",
              "    }\n",
              "</style>\n",
              "<table border=\"1\" class=\"dataframe\">\n",
              "  <thead>\n",
              "    <tr style=\"text-align: right;\">\n",
              "      <th></th>\n",
              "      <th>Survived</th>\n",
              "      <th>Pclass</th>\n",
              "      <th>Age</th>\n",
              "      <th>SibSp</th>\n",
              "      <th>Parch</th>\n",
              "      <th>Fare</th>\n",
              "      <th>Fare Per Person</th>\n",
              "      <th>Log_transformed_Fare Per Person</th>\n",
              "      <th>Embarked_0</th>\n",
              "      <th>Embarked_1</th>\n",
              "      <th>Embarked_2</th>\n",
              "      <th>Sex_0</th>\n",
              "      <th>Sex_1</th>\n",
              "    </tr>\n",
              "  </thead>\n",
              "  <tbody>\n",
              "    <tr>\n",
              "      <th>0</th>\n",
              "      <td>0</td>\n",
              "      <td>3</td>\n",
              "      <td>22.0</td>\n",
              "      <td>1</td>\n",
              "      <td>0</td>\n",
              "      <td>7.2500</td>\n",
              "      <td>3.62500</td>\n",
              "      <td>1.287854</td>\n",
              "      <td>True</td>\n",
              "      <td>False</td>\n",
              "      <td>False</td>\n",
              "      <td>True</td>\n",
              "      <td>False</td>\n",
              "    </tr>\n",
              "    <tr>\n",
              "      <th>1</th>\n",
              "      <td>1</td>\n",
              "      <td>1</td>\n",
              "      <td>38.0</td>\n",
              "      <td>1</td>\n",
              "      <td>0</td>\n",
              "      <td>71.2833</td>\n",
              "      <td>35.64165</td>\n",
              "      <td>3.573515</td>\n",
              "      <td>False</td>\n",
              "      <td>True</td>\n",
              "      <td>False</td>\n",
              "      <td>False</td>\n",
              "      <td>True</td>\n",
              "    </tr>\n",
              "    <tr>\n",
              "      <th>2</th>\n",
              "      <td>1</td>\n",
              "      <td>3</td>\n",
              "      <td>26.0</td>\n",
              "      <td>0</td>\n",
              "      <td>0</td>\n",
              "      <td>7.9250</td>\n",
              "      <td>7.92500</td>\n",
              "      <td>2.070022</td>\n",
              "      <td>True</td>\n",
              "      <td>False</td>\n",
              "      <td>False</td>\n",
              "      <td>False</td>\n",
              "      <td>True</td>\n",
              "    </tr>\n",
              "    <tr>\n",
              "      <th>3</th>\n",
              "      <td>1</td>\n",
              "      <td>1</td>\n",
              "      <td>35.0</td>\n",
              "      <td>1</td>\n",
              "      <td>0</td>\n",
              "      <td>53.1000</td>\n",
              "      <td>26.55000</td>\n",
              "      <td>3.279030</td>\n",
              "      <td>True</td>\n",
              "      <td>False</td>\n",
              "      <td>False</td>\n",
              "      <td>False</td>\n",
              "      <td>True</td>\n",
              "    </tr>\n",
              "    <tr>\n",
              "      <th>4</th>\n",
              "      <td>0</td>\n",
              "      <td>3</td>\n",
              "      <td>35.0</td>\n",
              "      <td>0</td>\n",
              "      <td>0</td>\n",
              "      <td>8.0500</td>\n",
              "      <td>8.05000</td>\n",
              "      <td>2.085672</td>\n",
              "      <td>True</td>\n",
              "      <td>False</td>\n",
              "      <td>False</td>\n",
              "      <td>True</td>\n",
              "      <td>False</td>\n",
              "    </tr>\n",
              "  </tbody>\n",
              "</table>\n",
              "</div>"
            ],
            "text/plain": [
              "   Survived  Pclass   Age  SibSp  Parch     Fare  Fare Per Person  \\\n",
              "0         0       3  22.0      1      0   7.2500          3.62500   \n",
              "1         1       1  38.0      1      0  71.2833         35.64165   \n",
              "2         1       3  26.0      0      0   7.9250          7.92500   \n",
              "3         1       1  35.0      1      0  53.1000         26.55000   \n",
              "4         0       3  35.0      0      0   8.0500          8.05000   \n",
              "\n",
              "   Log_transformed_Fare Per Person  Embarked_0  Embarked_1  Embarked_2  Sex_0  \\\n",
              "0                         1.287854        True       False       False   True   \n",
              "1                         3.573515       False        True       False  False   \n",
              "2                         2.070022        True       False       False  False   \n",
              "3                         3.279030        True       False       False  False   \n",
              "4                         2.085672        True       False       False   True   \n",
              "\n",
              "   Sex_1  \n",
              "0  False  \n",
              "1   True  \n",
              "2   True  \n",
              "3   True  \n",
              "4  False  "
            ]
          },
          "execution_count": 148,
          "metadata": {},
          "output_type": "execute_result"
        }
      ],
      "source": [
        "# One Hot Encoding for Gender and Cities\n",
        "new_data = copy.deepcopy(data)\n",
        "new_data\n",
        "new_data = pd.get_dummies(new_data, columns= [\"Embarked\", \"Sex\"])\n",
        "new_data.head()"
      ]
    },
    {
      "cell_type": "code",
      "execution_count": 149,
      "metadata": {
        "colab": {
          "base_uri": "https://localhost:8080/",
          "height": 281
        },
        "id": "6g7buZcXBGEg",
        "outputId": "92ad2de3-5d28-4838-bbc0-8353b43cb10f"
      },
      "outputs": [
        {
          "name": "stdout",
          "output_type": "stream",
          "text": [
            "['Log_transformed_Fare Per Person']\n"
          ]
        },
        {
          "name": "stderr",
          "output_type": "stream",
          "text": [
            "C:\\Users\\786\\AppData\\Local\\Temp\\ipykernel_18904\\3102651630.py:2: FutureWarning: Downcasting behavior in `replace` is deprecated and will be removed in a future version. To retain the old behavior, explicitly call `result.infer_objects(copy=False)`. To opt-in to the future behavior, set `pd.set_option('future.no_silent_downcasting', True)`\n",
            "  new_data = new_data.replace({True: 1, False: 0})\n"
          ]
        },
        {
          "data": {
            "application/vnd.microsoft.datawrangler.viewer.v0+json": {
              "columns": [
                {
                  "name": "index",
                  "rawType": "int64",
                  "type": "integer"
                },
                {
                  "name": "Survived",
                  "rawType": "int64",
                  "type": "integer"
                },
                {
                  "name": "Pclass",
                  "rawType": "int64",
                  "type": "integer"
                },
                {
                  "name": "Age",
                  "rawType": "float64",
                  "type": "float"
                },
                {
                  "name": "SibSp",
                  "rawType": "int64",
                  "type": "integer"
                },
                {
                  "name": "Parch",
                  "rawType": "int64",
                  "type": "integer"
                },
                {
                  "name": "Fare",
                  "rawType": "float64",
                  "type": "float"
                },
                {
                  "name": "Fare Per Person",
                  "rawType": "float64",
                  "type": "float"
                },
                {
                  "name": "Embarked_0",
                  "rawType": "int64",
                  "type": "integer"
                },
                {
                  "name": "Embarked_1",
                  "rawType": "int64",
                  "type": "integer"
                },
                {
                  "name": "Embarked_2",
                  "rawType": "int64",
                  "type": "integer"
                },
                {
                  "name": "Sex_0",
                  "rawType": "int64",
                  "type": "integer"
                },
                {
                  "name": "Sex_1",
                  "rawType": "int64",
                  "type": "integer"
                }
              ],
              "conversionMethod": "pd.DataFrame",
              "ref": "fec1f834-491c-47eb-91f7-68e3e852e2e9",
              "rows": [
                [
                  "0",
                  "0",
                  "1",
                  "22.0",
                  "1",
                  "0",
                  "7.25",
                  "3.625",
                  "1",
                  "0",
                  "0",
                  "1",
                  "0"
                ],
                [
                  "1",
                  "1",
                  "3",
                  "38.0",
                  "1",
                  "0",
                  "71.2833",
                  "35.64165",
                  "0",
                  "1",
                  "0",
                  "0",
                  "1"
                ],
                [
                  "2",
                  "1",
                  "1",
                  "26.0",
                  "0",
                  "0",
                  "7.925",
                  "7.925",
                  "1",
                  "0",
                  "0",
                  "0",
                  "1"
                ],
                [
                  "3",
                  "1",
                  "3",
                  "35.0",
                  "1",
                  "0",
                  "53.1",
                  "26.55",
                  "1",
                  "0",
                  "0",
                  "0",
                  "1"
                ],
                [
                  "4",
                  "0",
                  "1",
                  "35.0",
                  "0",
                  "0",
                  "8.05",
                  "8.05",
                  "1",
                  "0",
                  "0",
                  "1",
                  "0"
                ]
              ],
              "shape": {
                "columns": 12,
                "rows": 5
              }
            },
            "text/html": [
              "<div>\n",
              "<style scoped>\n",
              "    .dataframe tbody tr th:only-of-type {\n",
              "        vertical-align: middle;\n",
              "    }\n",
              "\n",
              "    .dataframe tbody tr th {\n",
              "        vertical-align: top;\n",
              "    }\n",
              "\n",
              "    .dataframe thead th {\n",
              "        text-align: right;\n",
              "    }\n",
              "</style>\n",
              "<table border=\"1\" class=\"dataframe\">\n",
              "  <thead>\n",
              "    <tr style=\"text-align: right;\">\n",
              "      <th></th>\n",
              "      <th>Survived</th>\n",
              "      <th>Pclass</th>\n",
              "      <th>Age</th>\n",
              "      <th>SibSp</th>\n",
              "      <th>Parch</th>\n",
              "      <th>Fare</th>\n",
              "      <th>Fare Per Person</th>\n",
              "      <th>Embarked_0</th>\n",
              "      <th>Embarked_1</th>\n",
              "      <th>Embarked_2</th>\n",
              "      <th>Sex_0</th>\n",
              "      <th>Sex_1</th>\n",
              "    </tr>\n",
              "  </thead>\n",
              "  <tbody>\n",
              "    <tr>\n",
              "      <th>0</th>\n",
              "      <td>0</td>\n",
              "      <td>1</td>\n",
              "      <td>22.0</td>\n",
              "      <td>1</td>\n",
              "      <td>0</td>\n",
              "      <td>7.2500</td>\n",
              "      <td>3.62500</td>\n",
              "      <td>1</td>\n",
              "      <td>0</td>\n",
              "      <td>0</td>\n",
              "      <td>1</td>\n",
              "      <td>0</td>\n",
              "    </tr>\n",
              "    <tr>\n",
              "      <th>1</th>\n",
              "      <td>1</td>\n",
              "      <td>3</td>\n",
              "      <td>38.0</td>\n",
              "      <td>1</td>\n",
              "      <td>0</td>\n",
              "      <td>71.2833</td>\n",
              "      <td>35.64165</td>\n",
              "      <td>0</td>\n",
              "      <td>1</td>\n",
              "      <td>0</td>\n",
              "      <td>0</td>\n",
              "      <td>1</td>\n",
              "    </tr>\n",
              "    <tr>\n",
              "      <th>2</th>\n",
              "      <td>1</td>\n",
              "      <td>1</td>\n",
              "      <td>26.0</td>\n",
              "      <td>0</td>\n",
              "      <td>0</td>\n",
              "      <td>7.9250</td>\n",
              "      <td>7.92500</td>\n",
              "      <td>1</td>\n",
              "      <td>0</td>\n",
              "      <td>0</td>\n",
              "      <td>0</td>\n",
              "      <td>1</td>\n",
              "    </tr>\n",
              "    <tr>\n",
              "      <th>3</th>\n",
              "      <td>1</td>\n",
              "      <td>3</td>\n",
              "      <td>35.0</td>\n",
              "      <td>1</td>\n",
              "      <td>0</td>\n",
              "      <td>53.1000</td>\n",
              "      <td>26.55000</td>\n",
              "      <td>1</td>\n",
              "      <td>0</td>\n",
              "      <td>0</td>\n",
              "      <td>0</td>\n",
              "      <td>1</td>\n",
              "    </tr>\n",
              "    <tr>\n",
              "      <th>4</th>\n",
              "      <td>0</td>\n",
              "      <td>1</td>\n",
              "      <td>35.0</td>\n",
              "      <td>0</td>\n",
              "      <td>0</td>\n",
              "      <td>8.0500</td>\n",
              "      <td>8.05000</td>\n",
              "      <td>1</td>\n",
              "      <td>0</td>\n",
              "      <td>0</td>\n",
              "      <td>1</td>\n",
              "      <td>0</td>\n",
              "    </tr>\n",
              "  </tbody>\n",
              "</table>\n",
              "</div>"
            ],
            "text/plain": [
              "   Survived  Pclass   Age  SibSp  Parch     Fare  Fare Per Person  Embarked_0  \\\n",
              "0         0       1  22.0      1      0   7.2500          3.62500           1   \n",
              "1         1       3  38.0      1      0  71.2833         35.64165           0   \n",
              "2         1       1  26.0      0      0   7.9250          7.92500           1   \n",
              "3         1       3  35.0      1      0  53.1000         26.55000           1   \n",
              "4         0       1  35.0      0      0   8.0500          8.05000           1   \n",
              "\n",
              "   Embarked_1  Embarked_2  Sex_0  Sex_1  \n",
              "0           0           0      1      0  \n",
              "1           1           0      0      1  \n",
              "2           0           0      0      1  \n",
              "3           0           0      0      1  \n",
              "4           0           0      1      0  "
            ]
          },
          "execution_count": 149,
          "metadata": {},
          "output_type": "execute_result"
        }
      ],
      "source": [
        "# Converting into Normal Data. And removing Log data as I dont want them to be part\n",
        "new_data = new_data.replace({True: 1, False: 0})\n",
        "new_data['Pclass'] = new_data['Pclass'].replace({3: 1, 1:3})\n",
        "cols = [col for col in new_data.columns if \"Log\" in col]\n",
        "print(cols)\n",
        "new_data.drop(cols, axis = 1, inplace = True)\n",
        "new_data.head()"
      ]
    },
    {
      "cell_type": "code",
      "execution_count": 150,
      "metadata": {
        "colab": {
          "base_uri": "https://localhost:8080/",
          "height": 261
        },
        "id": "FPRDX3McBGEh",
        "outputId": "26e71e73-763f-414d-e1e4-7d57f32487db"
      },
      "outputs": [
        {
          "data": {
            "application/vnd.microsoft.datawrangler.viewer.v0+json": {
              "columns": [
                {
                  "name": "index",
                  "rawType": "int64",
                  "type": "integer"
                },
                {
                  "name": "Survived",
                  "rawType": "int64",
                  "type": "integer"
                },
                {
                  "name": "Pclass",
                  "rawType": "int64",
                  "type": "integer"
                },
                {
                  "name": "Age",
                  "rawType": "float64",
                  "type": "float"
                },
                {
                  "name": "SibSp",
                  "rawType": "int64",
                  "type": "integer"
                },
                {
                  "name": "Parch",
                  "rawType": "int64",
                  "type": "integer"
                },
                {
                  "name": "Fare",
                  "rawType": "float64",
                  "type": "float"
                },
                {
                  "name": "Fare Per Person",
                  "rawType": "float64",
                  "type": "float"
                },
                {
                  "name": "Embarked_0",
                  "rawType": "int64",
                  "type": "integer"
                },
                {
                  "name": "Embarked_1",
                  "rawType": "int64",
                  "type": "integer"
                },
                {
                  "name": "Embarked_2",
                  "rawType": "int64",
                  "type": "integer"
                },
                {
                  "name": "Sex_0",
                  "rawType": "int64",
                  "type": "integer"
                },
                {
                  "name": "Sex_1",
                  "rawType": "int64",
                  "type": "integer"
                },
                {
                  "name": "Anomaly Score",
                  "rawType": "float64",
                  "type": "float"
                },
                {
                  "name": "Anomaly",
                  "rawType": "int64",
                  "type": "integer"
                }
              ],
              "conversionMethod": "pd.DataFrame",
              "ref": "893cd6dd-f5e1-4d96-b2da-e0f73624ff40",
              "rows": [
                [
                  "0",
                  "0",
                  "1",
                  "22.0",
                  "1",
                  "0",
                  "7.25",
                  "3.625",
                  "1",
                  "0",
                  "0",
                  "1",
                  "0",
                  "0.22117148077954324",
                  "1"
                ],
                [
                  "1",
                  "1",
                  "3",
                  "38.0",
                  "1",
                  "0",
                  "71.2833",
                  "35.64165",
                  "0",
                  "1",
                  "0",
                  "0",
                  "1",
                  "0.11791850714115248",
                  "1"
                ],
                [
                  "2",
                  "1",
                  "1",
                  "26.0",
                  "0",
                  "0",
                  "7.925",
                  "7.925",
                  "1",
                  "0",
                  "0",
                  "0",
                  "1",
                  "0.19918793900000586",
                  "1"
                ],
                [
                  "3",
                  "1",
                  "3",
                  "35.0",
                  "1",
                  "0",
                  "53.1",
                  "26.55",
                  "1",
                  "0",
                  "0",
                  "0",
                  "1",
                  "0.17635584224648887",
                  "1"
                ],
                [
                  "4",
                  "0",
                  "1",
                  "35.0",
                  "0",
                  "0",
                  "8.05",
                  "8.05",
                  "1",
                  "0",
                  "0",
                  "1",
                  "0",
                  "0.26823637184900834",
                  "1"
                ]
              ],
              "shape": {
                "columns": 14,
                "rows": 5
              }
            },
            "text/html": [
              "<div>\n",
              "<style scoped>\n",
              "    .dataframe tbody tr th:only-of-type {\n",
              "        vertical-align: middle;\n",
              "    }\n",
              "\n",
              "    .dataframe tbody tr th {\n",
              "        vertical-align: top;\n",
              "    }\n",
              "\n",
              "    .dataframe thead th {\n",
              "        text-align: right;\n",
              "    }\n",
              "</style>\n",
              "<table border=\"1\" class=\"dataframe\">\n",
              "  <thead>\n",
              "    <tr style=\"text-align: right;\">\n",
              "      <th></th>\n",
              "      <th>Survived</th>\n",
              "      <th>Pclass</th>\n",
              "      <th>Age</th>\n",
              "      <th>SibSp</th>\n",
              "      <th>Parch</th>\n",
              "      <th>Fare</th>\n",
              "      <th>Fare Per Person</th>\n",
              "      <th>Embarked_0</th>\n",
              "      <th>Embarked_1</th>\n",
              "      <th>Embarked_2</th>\n",
              "      <th>Sex_0</th>\n",
              "      <th>Sex_1</th>\n",
              "      <th>Anomaly Score</th>\n",
              "      <th>Anomaly</th>\n",
              "    </tr>\n",
              "  </thead>\n",
              "  <tbody>\n",
              "    <tr>\n",
              "      <th>0</th>\n",
              "      <td>0</td>\n",
              "      <td>1</td>\n",
              "      <td>22.0</td>\n",
              "      <td>1</td>\n",
              "      <td>0</td>\n",
              "      <td>7.2500</td>\n",
              "      <td>3.62500</td>\n",
              "      <td>1</td>\n",
              "      <td>0</td>\n",
              "      <td>0</td>\n",
              "      <td>1</td>\n",
              "      <td>0</td>\n",
              "      <td>0.221171</td>\n",
              "      <td>1</td>\n",
              "    </tr>\n",
              "    <tr>\n",
              "      <th>1</th>\n",
              "      <td>1</td>\n",
              "      <td>3</td>\n",
              "      <td>38.0</td>\n",
              "      <td>1</td>\n",
              "      <td>0</td>\n",
              "      <td>71.2833</td>\n",
              "      <td>35.64165</td>\n",
              "      <td>0</td>\n",
              "      <td>1</td>\n",
              "      <td>0</td>\n",
              "      <td>0</td>\n",
              "      <td>1</td>\n",
              "      <td>0.117919</td>\n",
              "      <td>1</td>\n",
              "    </tr>\n",
              "    <tr>\n",
              "      <th>2</th>\n",
              "      <td>1</td>\n",
              "      <td>1</td>\n",
              "      <td>26.0</td>\n",
              "      <td>0</td>\n",
              "      <td>0</td>\n",
              "      <td>7.9250</td>\n",
              "      <td>7.92500</td>\n",
              "      <td>1</td>\n",
              "      <td>0</td>\n",
              "      <td>0</td>\n",
              "      <td>0</td>\n",
              "      <td>1</td>\n",
              "      <td>0.199188</td>\n",
              "      <td>1</td>\n",
              "    </tr>\n",
              "    <tr>\n",
              "      <th>3</th>\n",
              "      <td>1</td>\n",
              "      <td>3</td>\n",
              "      <td>35.0</td>\n",
              "      <td>1</td>\n",
              "      <td>0</td>\n",
              "      <td>53.1000</td>\n",
              "      <td>26.55000</td>\n",
              "      <td>1</td>\n",
              "      <td>0</td>\n",
              "      <td>0</td>\n",
              "      <td>0</td>\n",
              "      <td>1</td>\n",
              "      <td>0.176356</td>\n",
              "      <td>1</td>\n",
              "    </tr>\n",
              "    <tr>\n",
              "      <th>4</th>\n",
              "      <td>0</td>\n",
              "      <td>1</td>\n",
              "      <td>35.0</td>\n",
              "      <td>0</td>\n",
              "      <td>0</td>\n",
              "      <td>8.0500</td>\n",
              "      <td>8.05000</td>\n",
              "      <td>1</td>\n",
              "      <td>0</td>\n",
              "      <td>0</td>\n",
              "      <td>1</td>\n",
              "      <td>0</td>\n",
              "      <td>0.268236</td>\n",
              "      <td>1</td>\n",
              "    </tr>\n",
              "  </tbody>\n",
              "</table>\n",
              "</div>"
            ],
            "text/plain": [
              "   Survived  Pclass   Age  SibSp  Parch     Fare  Fare Per Person  Embarked_0  \\\n",
              "0         0       1  22.0      1      0   7.2500          3.62500           1   \n",
              "1         1       3  38.0      1      0  71.2833         35.64165           0   \n",
              "2         1       1  26.0      0      0   7.9250          7.92500           1   \n",
              "3         1       3  35.0      1      0  53.1000         26.55000           1   \n",
              "4         0       1  35.0      0      0   8.0500          8.05000           1   \n",
              "\n",
              "   Embarked_1  Embarked_2  Sex_0  Sex_1  Anomaly Score  Anomaly  \n",
              "0           0           0      1      0       0.221171        1  \n",
              "1           1           0      0      1       0.117919        1  \n",
              "2           0           0      0      1       0.199188        1  \n",
              "3           0           0      0      1       0.176356        1  \n",
              "4           0           0      1      0       0.268236        1  "
            ]
          },
          "execution_count": 150,
          "metadata": {},
          "output_type": "execute_result"
        }
      ],
      "source": [
        "# Multivariate Outliers\n",
        "anomaly_data = copy.deepcopy(new_data)\n",
        "model = IsolationForest(n_estimators= 100, contamination=0.015, random_state=42)\n",
        "model.fit(anomaly_data)\n",
        "new_data['Anomaly Score'] = model.decision_function(anomaly_data)\n",
        "new_data[\"Anomaly\"] = model.predict(anomaly_data)\n",
        "new_data.head()"
      ]
    },
    {
      "cell_type": "code",
      "execution_count": 151,
      "metadata": {
        "colab": {
          "base_uri": "https://localhost:8080/",
          "height": 882
        },
        "id": "W7yeR_MtBGEi",
        "outputId": "3c498b26-8a60-4c10-9798-7826ada192d9"
      },
      "outputs": [
        {
          "name": "stdout",
          "output_type": "stream",
          "text": [
            "['Sex_0', 'Sex_1']\n",
            "['Embarked_0', 'Embarked_1', 'Embarked_2']\n"
          ]
        },
        {
          "data": {
            "application/vnd.microsoft.datawrangler.viewer.v0+json": {
              "columns": [
                {
                  "name": "index",
                  "rawType": "int64",
                  "type": "integer"
                },
                {
                  "name": "Survived",
                  "rawType": "int64",
                  "type": "integer"
                },
                {
                  "name": "Pclass",
                  "rawType": "int64",
                  "type": "integer"
                },
                {
                  "name": "Age",
                  "rawType": "float64",
                  "type": "float"
                },
                {
                  "name": "SibSp",
                  "rawType": "int64",
                  "type": "integer"
                },
                {
                  "name": "Parch",
                  "rawType": "int64",
                  "type": "integer"
                },
                {
                  "name": "Fare",
                  "rawType": "float64",
                  "type": "float"
                },
                {
                  "name": "Fare Per Person",
                  "rawType": "float64",
                  "type": "float"
                },
                {
                  "name": "Anomaly Score",
                  "rawType": "float64",
                  "type": "float"
                },
                {
                  "name": "Anomaly",
                  "rawType": "int64",
                  "type": "integer"
                },
                {
                  "name": "Sex",
                  "rawType": "int64",
                  "type": "integer"
                },
                {
                  "name": "Embarked",
                  "rawType": "int64",
                  "type": "integer"
                }
              ],
              "conversionMethod": "pd.DataFrame",
              "ref": "19703b49-6e74-4ab5-8a36-323404e2fc2b",
              "rows": [
                [
                  "0",
                  "0",
                  "1",
                  "22.0",
                  "1",
                  "0",
                  "7.25",
                  "3.625",
                  "0.22117148077954324",
                  "1",
                  "0",
                  "0"
                ],
                [
                  "1",
                  "1",
                  "3",
                  "38.0",
                  "1",
                  "0",
                  "71.2833",
                  "35.64165",
                  "0.11791850714115248",
                  "1",
                  "1",
                  "1"
                ],
                [
                  "2",
                  "1",
                  "1",
                  "26.0",
                  "0",
                  "0",
                  "7.925",
                  "7.925",
                  "0.19918793900000586",
                  "1",
                  "1",
                  "0"
                ],
                [
                  "3",
                  "1",
                  "3",
                  "35.0",
                  "1",
                  "0",
                  "53.1",
                  "26.55",
                  "0.17635584224648887",
                  "1",
                  "1",
                  "0"
                ],
                [
                  "4",
                  "0",
                  "1",
                  "35.0",
                  "0",
                  "0",
                  "8.05",
                  "8.05",
                  "0.26823637184900834",
                  "1",
                  "0",
                  "0"
                ]
              ],
              "shape": {
                "columns": 11,
                "rows": 5
              }
            },
            "text/html": [
              "<div>\n",
              "<style scoped>\n",
              "    .dataframe tbody tr th:only-of-type {\n",
              "        vertical-align: middle;\n",
              "    }\n",
              "\n",
              "    .dataframe tbody tr th {\n",
              "        vertical-align: top;\n",
              "    }\n",
              "\n",
              "    .dataframe thead th {\n",
              "        text-align: right;\n",
              "    }\n",
              "</style>\n",
              "<table border=\"1\" class=\"dataframe\">\n",
              "  <thead>\n",
              "    <tr style=\"text-align: right;\">\n",
              "      <th></th>\n",
              "      <th>Survived</th>\n",
              "      <th>Pclass</th>\n",
              "      <th>Age</th>\n",
              "      <th>SibSp</th>\n",
              "      <th>Parch</th>\n",
              "      <th>Fare</th>\n",
              "      <th>Fare Per Person</th>\n",
              "      <th>Anomaly Score</th>\n",
              "      <th>Anomaly</th>\n",
              "      <th>Sex</th>\n",
              "      <th>Embarked</th>\n",
              "    </tr>\n",
              "  </thead>\n",
              "  <tbody>\n",
              "    <tr>\n",
              "      <th>0</th>\n",
              "      <td>0</td>\n",
              "      <td>1</td>\n",
              "      <td>22.0</td>\n",
              "      <td>1</td>\n",
              "      <td>0</td>\n",
              "      <td>7.2500</td>\n",
              "      <td>3.62500</td>\n",
              "      <td>0.221171</td>\n",
              "      <td>1</td>\n",
              "      <td>0</td>\n",
              "      <td>0</td>\n",
              "    </tr>\n",
              "    <tr>\n",
              "      <th>1</th>\n",
              "      <td>1</td>\n",
              "      <td>3</td>\n",
              "      <td>38.0</td>\n",
              "      <td>1</td>\n",
              "      <td>0</td>\n",
              "      <td>71.2833</td>\n",
              "      <td>35.64165</td>\n",
              "      <td>0.117919</td>\n",
              "      <td>1</td>\n",
              "      <td>1</td>\n",
              "      <td>1</td>\n",
              "    </tr>\n",
              "    <tr>\n",
              "      <th>2</th>\n",
              "      <td>1</td>\n",
              "      <td>1</td>\n",
              "      <td>26.0</td>\n",
              "      <td>0</td>\n",
              "      <td>0</td>\n",
              "      <td>7.9250</td>\n",
              "      <td>7.92500</td>\n",
              "      <td>0.199188</td>\n",
              "      <td>1</td>\n",
              "      <td>1</td>\n",
              "      <td>0</td>\n",
              "    </tr>\n",
              "    <tr>\n",
              "      <th>3</th>\n",
              "      <td>1</td>\n",
              "      <td>3</td>\n",
              "      <td>35.0</td>\n",
              "      <td>1</td>\n",
              "      <td>0</td>\n",
              "      <td>53.1000</td>\n",
              "      <td>26.55000</td>\n",
              "      <td>0.176356</td>\n",
              "      <td>1</td>\n",
              "      <td>1</td>\n",
              "      <td>0</td>\n",
              "    </tr>\n",
              "    <tr>\n",
              "      <th>4</th>\n",
              "      <td>0</td>\n",
              "      <td>1</td>\n",
              "      <td>35.0</td>\n",
              "      <td>0</td>\n",
              "      <td>0</td>\n",
              "      <td>8.0500</td>\n",
              "      <td>8.05000</td>\n",
              "      <td>0.268236</td>\n",
              "      <td>1</td>\n",
              "      <td>0</td>\n",
              "      <td>0</td>\n",
              "    </tr>\n",
              "  </tbody>\n",
              "</table>\n",
              "</div>"
            ],
            "text/plain": [
              "   Survived  Pclass   Age  SibSp  Parch     Fare  Fare Per Person  \\\n",
              "0         0       1  22.0      1      0   7.2500          3.62500   \n",
              "1         1       3  38.0      1      0  71.2833         35.64165   \n",
              "2         1       1  26.0      0      0   7.9250          7.92500   \n",
              "3         1       3  35.0      1      0  53.1000         26.55000   \n",
              "4         0       1  35.0      0      0   8.0500          8.05000   \n",
              "\n",
              "   Anomaly Score  Anomaly  Sex  Embarked  \n",
              "0       0.221171        1    0         0  \n",
              "1       0.117919        1    1         1  \n",
              "2       0.199188        1    1         0  \n",
              "3       0.176356        1    1         0  \n",
              "4       0.268236        1    0         0  "
            ]
          },
          "execution_count": 151,
          "metadata": {},
          "output_type": "execute_result"
        }
      ],
      "source": [
        "# Removing those outliers as they are multivariate and it will be difficult to adjust them again and reversing the one hot encoding\n",
        "# as it is not needed now.\n",
        "new_data = new_data[new_data[\"Anomaly\"] != -1]\n",
        "new_data.reset_index(drop = True, inplace= True)\n",
        "cols = [\"Sex\", \"Embarked\"]\n",
        "reverse_one_hot(new_data, cols)\n",
        "new_data.head()"
      ]
    },
    {
      "cell_type": "code",
      "execution_count": 152,
      "metadata": {
        "colab": {
          "base_uri": "https://localhost:8080/",
          "height": 317
        },
        "id": "QiZFR3C_BGEi",
        "outputId": "a9799336-649a-4737-90d3-1b646ea6bf09"
      },
      "outputs": [
        {
          "data": {
            "application/vnd.microsoft.datawrangler.viewer.v0+json": {
              "columns": [
                {
                  "name": "index",
                  "rawType": "int64",
                  "type": "integer"
                },
                {
                  "name": "Survived",
                  "rawType": "int64",
                  "type": "integer"
                },
                {
                  "name": "Pclass",
                  "rawType": "int64",
                  "type": "integer"
                },
                {
                  "name": "Age",
                  "rawType": "float64",
                  "type": "float"
                },
                {
                  "name": "SibSp",
                  "rawType": "int64",
                  "type": "integer"
                },
                {
                  "name": "Parch",
                  "rawType": "int64",
                  "type": "integer"
                },
                {
                  "name": "Fare",
                  "rawType": "float64",
                  "type": "float"
                },
                {
                  "name": "Fare Per Person",
                  "rawType": "float64",
                  "type": "float"
                },
                {
                  "name": "Sex",
                  "rawType": "int64",
                  "type": "integer"
                },
                {
                  "name": "Embarked",
                  "rawType": "int64",
                  "type": "integer"
                }
              ],
              "conversionMethod": "pd.DataFrame",
              "ref": "cf950390-ad08-4076-bffd-cc30b6042ef5",
              "rows": [
                [
                  "0",
                  "0",
                  "1",
                  "22.0",
                  "1",
                  "0",
                  "7.25",
                  "3.625",
                  "0",
                  "0"
                ],
                [
                  "1",
                  "1",
                  "3",
                  "38.0",
                  "1",
                  "0",
                  "71.2833",
                  "35.64165",
                  "1",
                  "1"
                ],
                [
                  "2",
                  "1",
                  "1",
                  "26.0",
                  "0",
                  "0",
                  "7.925",
                  "7.925",
                  "1",
                  "0"
                ],
                [
                  "3",
                  "1",
                  "3",
                  "35.0",
                  "1",
                  "0",
                  "53.1",
                  "26.55",
                  "1",
                  "0"
                ],
                [
                  "4",
                  "0",
                  "1",
                  "35.0",
                  "0",
                  "0",
                  "8.05",
                  "8.05",
                  "0",
                  "0"
                ]
              ],
              "shape": {
                "columns": 9,
                "rows": 5
              }
            },
            "text/html": [
              "<div>\n",
              "<style scoped>\n",
              "    .dataframe tbody tr th:only-of-type {\n",
              "        vertical-align: middle;\n",
              "    }\n",
              "\n",
              "    .dataframe tbody tr th {\n",
              "        vertical-align: top;\n",
              "    }\n",
              "\n",
              "    .dataframe thead th {\n",
              "        text-align: right;\n",
              "    }\n",
              "</style>\n",
              "<table border=\"1\" class=\"dataframe\">\n",
              "  <thead>\n",
              "    <tr style=\"text-align: right;\">\n",
              "      <th></th>\n",
              "      <th>Survived</th>\n",
              "      <th>Pclass</th>\n",
              "      <th>Age</th>\n",
              "      <th>SibSp</th>\n",
              "      <th>Parch</th>\n",
              "      <th>Fare</th>\n",
              "      <th>Fare Per Person</th>\n",
              "      <th>Sex</th>\n",
              "      <th>Embarked</th>\n",
              "    </tr>\n",
              "  </thead>\n",
              "  <tbody>\n",
              "    <tr>\n",
              "      <th>0</th>\n",
              "      <td>0</td>\n",
              "      <td>1</td>\n",
              "      <td>22.0</td>\n",
              "      <td>1</td>\n",
              "      <td>0</td>\n",
              "      <td>7.2500</td>\n",
              "      <td>3.62500</td>\n",
              "      <td>0</td>\n",
              "      <td>0</td>\n",
              "    </tr>\n",
              "    <tr>\n",
              "      <th>1</th>\n",
              "      <td>1</td>\n",
              "      <td>3</td>\n",
              "      <td>38.0</td>\n",
              "      <td>1</td>\n",
              "      <td>0</td>\n",
              "      <td>71.2833</td>\n",
              "      <td>35.64165</td>\n",
              "      <td>1</td>\n",
              "      <td>1</td>\n",
              "    </tr>\n",
              "    <tr>\n",
              "      <th>2</th>\n",
              "      <td>1</td>\n",
              "      <td>1</td>\n",
              "      <td>26.0</td>\n",
              "      <td>0</td>\n",
              "      <td>0</td>\n",
              "      <td>7.9250</td>\n",
              "      <td>7.92500</td>\n",
              "      <td>1</td>\n",
              "      <td>0</td>\n",
              "    </tr>\n",
              "    <tr>\n",
              "      <th>3</th>\n",
              "      <td>1</td>\n",
              "      <td>3</td>\n",
              "      <td>35.0</td>\n",
              "      <td>1</td>\n",
              "      <td>0</td>\n",
              "      <td>53.1000</td>\n",
              "      <td>26.55000</td>\n",
              "      <td>1</td>\n",
              "      <td>0</td>\n",
              "    </tr>\n",
              "    <tr>\n",
              "      <th>4</th>\n",
              "      <td>0</td>\n",
              "      <td>1</td>\n",
              "      <td>35.0</td>\n",
              "      <td>0</td>\n",
              "      <td>0</td>\n",
              "      <td>8.0500</td>\n",
              "      <td>8.05000</td>\n",
              "      <td>0</td>\n",
              "      <td>0</td>\n",
              "    </tr>\n",
              "  </tbody>\n",
              "</table>\n",
              "</div>"
            ],
            "text/plain": [
              "   Survived  Pclass   Age  SibSp  Parch     Fare  Fare Per Person  Sex  \\\n",
              "0         0       1  22.0      1      0   7.2500          3.62500    0   \n",
              "1         1       3  38.0      1      0  71.2833         35.64165    1   \n",
              "2         1       1  26.0      0      0   7.9250          7.92500    1   \n",
              "3         1       3  35.0      1      0  53.1000         26.55000    1   \n",
              "4         0       1  35.0      0      0   8.0500          8.05000    0   \n",
              "\n",
              "   Embarked  \n",
              "0         0  \n",
              "1         1  \n",
              "2         0  \n",
              "3         0  \n",
              "4         0  "
            ]
          },
          "execution_count": 152,
          "metadata": {},
          "output_type": "execute_result"
        }
      ],
      "source": [
        "# Removing them\n",
        "cols = ['Anomaly Score', \"Anomaly\"]\n",
        "new_data.drop(cols, inplace = True, axis = 1)\n",
        "new_data.head()"
      ]
    },
    {
      "cell_type": "markdown",
      "metadata": {
        "id": "INQf0JQGBGEj"
      },
      "source": [
        "## Feature Analysis Feature Selection\n",
        "I am going to use Partial, Complete Corelation and Mutual Information to find the most effective features for my dataset\n"
      ]
    },
    {
      "cell_type": "code",
      "execution_count": 153,
      "metadata": {
        "colab": {
          "base_uri": "https://localhost:8080/"
        },
        "id": "-f_l-RfJBGEj",
        "outputId": "ffd8aeef-13e9-4731-9ceb-ec6ae3ba20b1"
      },
      "outputs": [
        {
          "name": "stdout",
          "output_type": "stream",
          "text": [
            "Pclass:\n",
            "           n         r        CI95%         p-val\n",
            "pearson  743  0.337535  [0.27, 0.4]  2.958340e-21\n",
            "Age:\n",
            "           n         r           CI95%     p-val\n",
            "pearson  743 -0.088913  [-0.16, -0.02]  0.015338\n",
            "SibSp:\n",
            "           n         r          CI95%     p-val\n",
            "pearson  743 -0.033409  [-0.11, 0.04]  0.363141\n",
            "Parch:\n",
            "           n        r         CI95%     p-val\n",
            "pearson  743  0.09081  [0.02, 0.16]  0.013277\n",
            "Fare:\n",
            "           n         r         CI95%         p-val\n",
            "pearson  743  0.289502  [0.22, 0.35]  8.212193e-16\n",
            "Fare Per Person:\n",
            "           n         r         CI95%         p-val\n",
            "pearson  743  0.257955  [0.19, 0.32]  9.285011e-13\n",
            "Sex:\n",
            "           n         r         CI95%         p-val\n",
            "pearson  743  0.502533  [0.45, 0.55]  8.481193e-49\n",
            "Embarked:\n",
            "           n         r          CI95%     p-val\n",
            "pearson  743  0.065038  [-0.01, 0.14]  0.076443\n",
            "Log_transformed_Fare Per Person:\n",
            "           n         r         CI95%         p-val\n",
            "pearson  743  0.262808  [0.19, 0.33]  3.340066e-13\n",
            "Survived                             int64\n",
            "Pclass                               int64\n",
            "Age                                float64\n",
            "SibSp                                int64\n",
            "Parch                                int64\n",
            "Fare                               float64\n",
            "Fare Per Person                    float64\n",
            "Sex                                  int64\n",
            "Embarked                             int64\n",
            "Log_transformed_Fare Per Person    float64\n",
            "dtype: object\n"
          ]
        }
      ],
      "source": [
        "new_data = transform_log(new_data, \"Fare Per Person\")\n",
        "analyzed_data = copy.deepcopy(new_data)\n",
        "pcCorr = compute_partial_relation(analyzed_data, \"Survived\")\n",
        "print(analyzed_data.dtypes)"
      ]
    },
    {
      "cell_type": "code",
      "execution_count": 154,
      "metadata": {
        "colab": {
          "base_uri": "https://localhost:8080/"
        },
        "id": "b6CMgX7DBGEk",
        "outputId": "ac06722f-b588-4dd8-f14a-43af30a8f8aa"
      },
      "outputs": [
        {
          "name": "stdout",
          "output_type": "stream",
          "text": [
            "                           Feature  MI Score\n",
            "0                           Pclass  0.045021\n",
            "1                              Age  0.012966\n",
            "2                            SibSp  0.000426\n",
            "3                            Parch  0.000000\n",
            "4                             Fare  0.054546\n",
            "5                  Fare Per Person  0.107671\n",
            "6                              Sex  0.107122\n",
            "7                         Embarked  0.001267\n",
            "8  Log_transformed_Fare Per Person  0.056204\n"
          ]
        }
      ],
      "source": [
        "# Using MI - Discretizing as MI works good on discrete data\n",
        "cols = [\"Fare\", \"Log_transformed_Fare Per Person\", \"Age\"]\n",
        "discretizer = KBinsDiscretizer(n_bins=10, encode='ordinal', strategy='uniform')\n",
        "analyzed_data[cols] = discretizer.fit_transform(analyzed_data[cols])\n",
        "mi_scores = mutual_info_classif(analyzed_data.drop(\"Survived\", axis = 1), analyzed_data[\"Survived\"], random_state=42)\n",
        "mi_df = pd.DataFrame({'Feature': analyzed_data.drop(\"Survived\", axis = 1).columns, 'MI Score': mi_scores})\n",
        "print(mi_df)"
      ]
    },
    {
      "cell_type": "code",
      "execution_count": 155,
      "metadata": {
        "colab": {
          "base_uri": "https://localhost:8080/",
          "height": 762
        },
        "id": "xHiYDNNWBGEk",
        "outputId": "e34ed25e-40ce-4556-d91c-1bb2a2618731"
      },
      "outputs": [
        {
          "data": {
            "image/png": "[encoded data removed]",
            "text/plain": [
              "<Figure size 800x600 with 2 Axes>"
            ]
          },
          "metadata": {},
          "output_type": "display_data"
        }
      ],
      "source": [
        "corrFull = new_data.corr()\n",
        "plt.figure(figsize=(8,6))\n",
        "sns.heatmap(corrFull, annot=True, cmap=\"coolwarm\", center=0, linewidths=0.5)\n",
        "plt.title(\"Correlation Matrix\")\n",
        "plt.show()"
      ]
    },
    {
      "cell_type": "markdown",
      "metadata": {
        "id": "arJthluZBGEk"
      },
      "source": [
        "### Notes\n",
        "I have removed Fare Per Person and SibSp for better results and added Log Fare Per Person along with Total People that accounts for SibSp.\n",
        "I am going to remove SibSp, and Fare per person as SibSp p value was against it and i think log will perform better as its results were more statistically significant"
      ]
    },
    {
      "cell_type": "code",
      "execution_count": 156,
      "metadata": {
        "colab": {
          "base_uri": "https://localhost:8080/"
        },
        "id": "5HF9nFmnBGEk",
        "outputId": "058760aa-d983-4306-913a-5136d271b889"
      },
      "outputs": [
        {
          "name": "stderr",
          "output_type": "stream",
          "text": [
            "c:\\Python312\\Lib\\site-packages\\pandas\\core\\arraylike.py:399: RuntimeWarning: divide by zero encountered in log\n",
            "  result = getattr(ufunc, method)(*inputs, **kwargs)\n"
          ]
        }
      ],
      "source": [
        "new_data['Total People'] = new_data[\"Parch\"] + new_data[\"SibSp\"] + 1\n",
        "test['Total People'] = test['Parch'] + test['SibSp'] + 1\n",
        "test['Fare Per Person'] = test[\"Fare\"]/(test[\"SibSp\"]+test['Parch'] + 1)\n",
        "test = transform_log(test, 'Fare Per Person')\n",
        "new_data.drop(inplace=True, axis = 0, columns = ['Fare Per Person', 'SibSp'])"
      ]
    },
    {
      "cell_type": "code",
      "execution_count": 157,
      "metadata": {},
      "outputs": [
        {
          "data": {
            "application/vnd.microsoft.datawrangler.viewer.v0+json": {
              "columns": [
                {
                  "name": "index",
                  "rawType": "int64",
                  "type": "integer"
                },
                {
                  "name": "Survived",
                  "rawType": "int64",
                  "type": "integer"
                },
                {
                  "name": "Pclass",
                  "rawType": "int64",
                  "type": "integer"
                },
                {
                  "name": "Age",
                  "rawType": "float64",
                  "type": "float"
                },
                {
                  "name": "Parch",
                  "rawType": "int64",
                  "type": "integer"
                },
                {
                  "name": "Fare",
                  "rawType": "float64",
                  "type": "float"
                },
                {
                  "name": "Sex",
                  "rawType": "int64",
                  "type": "integer"
                },
                {
                  "name": "Embarked",
                  "rawType": "int64",
                  "type": "integer"
                },
                {
                  "name": "Log_transformed_Fare Per Person",
                  "rawType": "float64",
                  "type": "float"
                },
                {
                  "name": "Total People",
                  "rawType": "int64",
                  "type": "integer"
                }
              ],
              "conversionMethod": "pd.DataFrame",
              "ref": "26d9033f-a072-4437-8df3-d5f6af3e6f12",
              "rows": [
                [
                  "0",
                  "0",
                  "1",
                  "22.0",
                  "0",
                  "7.25",
                  "0",
                  "0",
                  "1.2878542883066382",
                  "2"
                ],
                [
                  "1",
                  "1",
                  "3",
                  "38.0",
                  "0",
                  "71.2833",
                  "1",
                  "1",
                  "3.5735148978272644",
                  "2"
                ],
                [
                  "2",
                  "1",
                  "1",
                  "26.0",
                  "0",
                  "7.925",
                  "1",
                  "0",
                  "2.0700223197633445",
                  "1"
                ],
                [
                  "3",
                  "1",
                  "3",
                  "35.0",
                  "0",
                  "53.1",
                  "1",
                  "0",
                  "3.279029747687948",
                  "2"
                ],
                [
                  "4",
                  "0",
                  "1",
                  "35.0",
                  "0",
                  "8.05",
                  "0",
                  "0",
                  "2.0856720914304723",
                  "1"
                ]
              ],
              "shape": {
                "columns": 9,
                "rows": 5
              }
            },
            "text/html": [
              "<div>\n",
              "<style scoped>\n",
              "    .dataframe tbody tr th:only-of-type {\n",
              "        vertical-align: middle;\n",
              "    }\n",
              "\n",
              "    .dataframe tbody tr th {\n",
              "        vertical-align: top;\n",
              "    }\n",
              "\n",
              "    .dataframe thead th {\n",
              "        text-align: right;\n",
              "    }\n",
              "</style>\n",
              "<table border=\"1\" class=\"dataframe\">\n",
              "  <thead>\n",
              "    <tr style=\"text-align: right;\">\n",
              "      <th></th>\n",
              "      <th>Survived</th>\n",
              "      <th>Pclass</th>\n",
              "      <th>Age</th>\n",
              "      <th>Parch</th>\n",
              "      <th>Fare</th>\n",
              "      <th>Sex</th>\n",
              "      <th>Embarked</th>\n",
              "      <th>Log_transformed_Fare Per Person</th>\n",
              "      <th>Total People</th>\n",
              "    </tr>\n",
              "  </thead>\n",
              "  <tbody>\n",
              "    <tr>\n",
              "      <th>0</th>\n",
              "      <td>0</td>\n",
              "      <td>1</td>\n",
              "      <td>22.0</td>\n",
              "      <td>0</td>\n",
              "      <td>7.2500</td>\n",
              "      <td>0</td>\n",
              "      <td>0</td>\n",
              "      <td>1.287854</td>\n",
              "      <td>2</td>\n",
              "    </tr>\n",
              "    <tr>\n",
              "      <th>1</th>\n",
              "      <td>1</td>\n",
              "      <td>3</td>\n",
              "      <td>38.0</td>\n",
              "      <td>0</td>\n",
              "      <td>71.2833</td>\n",
              "      <td>1</td>\n",
              "      <td>1</td>\n",
              "      <td>3.573515</td>\n",
              "      <td>2</td>\n",
              "    </tr>\n",
              "    <tr>\n",
              "      <th>2</th>\n",
              "      <td>1</td>\n",
              "      <td>1</td>\n",
              "      <td>26.0</td>\n",
              "      <td>0</td>\n",
              "      <td>7.9250</td>\n",
              "      <td>1</td>\n",
              "      <td>0</td>\n",
              "      <td>2.070022</td>\n",
              "      <td>1</td>\n",
              "    </tr>\n",
              "    <tr>\n",
              "      <th>3</th>\n",
              "      <td>1</td>\n",
              "      <td>3</td>\n",
              "      <td>35.0</td>\n",
              "      <td>0</td>\n",
              "      <td>53.1000</td>\n",
              "      <td>1</td>\n",
              "      <td>0</td>\n",
              "      <td>3.279030</td>\n",
              "      <td>2</td>\n",
              "    </tr>\n",
              "    <tr>\n",
              "      <th>4</th>\n",
              "      <td>0</td>\n",
              "      <td>1</td>\n",
              "      <td>35.0</td>\n",
              "      <td>0</td>\n",
              "      <td>8.0500</td>\n",
              "      <td>0</td>\n",
              "      <td>0</td>\n",
              "      <td>2.085672</td>\n",
              "      <td>1</td>\n",
              "    </tr>\n",
              "  </tbody>\n",
              "</table>\n",
              "</div>"
            ],
            "text/plain": [
              "   Survived  Pclass   Age  Parch     Fare  Sex  Embarked  \\\n",
              "0         0       1  22.0      0   7.2500    0         0   \n",
              "1         1       3  38.0      0  71.2833    1         1   \n",
              "2         1       1  26.0      0   7.9250    1         0   \n",
              "3         1       3  35.0      0  53.1000    1         0   \n",
              "4         0       1  35.0      0   8.0500    0         0   \n",
              "\n",
              "   Log_transformed_Fare Per Person  Total People  \n",
              "0                         1.287854             2  \n",
              "1                         3.573515             2  \n",
              "2                         2.070022             1  \n",
              "3                         3.279030             2  \n",
              "4                         2.085672             1  "
            ]
          },
          "execution_count": 157,
          "metadata": {},
          "output_type": "execute_result"
        }
      ],
      "source": [
        "new_data.head()"
      ]
    },
    {
      "cell_type": "markdown",
      "metadata": {
        "id": "ppH2lglcBGEl"
      },
      "source": [
        "## Final Touches"
      ]
    },
    {
      "cell_type": "code",
      "execution_count": 158,
      "metadata": {
        "colab": {
          "base_uri": "https://localhost:8080/",
          "height": 280
        },
        "id": "2_AbCKu5BGEl",
        "outputId": "84b8f542-67cf-4f8f-ca8d-7fca72b40a91",
        "scrolled": true
      },
      "outputs": [
        {
          "name": "stderr",
          "output_type": "stream",
          "text": [
            "C:\\Users\\786\\AppData\\Local\\Temp\\ipykernel_18904\\1681472905.py:4: FutureWarning: Downcasting behavior in `replace` is deprecated and will be removed in a future version. To retain the old behavior, explicitly call `result.infer_objects(copy=False)`. To opt-in to the future behavior, set `pd.set_option('future.no_silent_downcasting', True)`\n",
            "  encoded_data = encoded_data.replace({True: 1, False: 0})\n"
          ]
        },
        {
          "data": {
            "application/vnd.microsoft.datawrangler.viewer.v0+json": {
              "columns": [
                {
                  "name": "index",
                  "rawType": "int64",
                  "type": "integer"
                },
                {
                  "name": "Age",
                  "rawType": "float64",
                  "type": "float"
                },
                {
                  "name": "Embarked_0",
                  "rawType": "int64",
                  "type": "integer"
                },
                {
                  "name": "Embarked_1",
                  "rawType": "int64",
                  "type": "integer"
                },
                {
                  "name": "Embarked_2",
                  "rawType": "int64",
                  "type": "integer"
                },
                {
                  "name": "Fare",
                  "rawType": "float64",
                  "type": "float"
                },
                {
                  "name": "Log_transformed_Fare Per Person",
                  "rawType": "float64",
                  "type": "float"
                },
                {
                  "name": "Parch",
                  "rawType": "int64",
                  "type": "integer"
                },
                {
                  "name": "Pclass",
                  "rawType": "int64",
                  "type": "integer"
                },
                {
                  "name": "Sex_0",
                  "rawType": "int64",
                  "type": "integer"
                },
                {
                  "name": "Sex_1",
                  "rawType": "int64",
                  "type": "integer"
                },
                {
                  "name": "Survived",
                  "rawType": "int64",
                  "type": "integer"
                },
                {
                  "name": "Total People",
                  "rawType": "int64",
                  "type": "integer"
                }
              ],
              "conversionMethod": "pd.DataFrame",
              "ref": "0cf01cc9-964b-4d24-b6cb-4a59823bc69b",
              "rows": [
                [
                  "0",
                  "22.0",
                  "1",
                  "0",
                  "0",
                  "7.25",
                  "1.2878542883066382",
                  "0",
                  "1",
                  "1",
                  "0",
                  "0",
                  "2"
                ],
                [
                  "1",
                  "38.0",
                  "0",
                  "1",
                  "0",
                  "71.2833",
                  "3.5735148978272644",
                  "0",
                  "3",
                  "0",
                  "1",
                  "1",
                  "2"
                ],
                [
                  "2",
                  "26.0",
                  "1",
                  "0",
                  "0",
                  "7.925",
                  "2.0700223197633445",
                  "0",
                  "1",
                  "0",
                  "1",
                  "1",
                  "1"
                ],
                [
                  "3",
                  "35.0",
                  "1",
                  "0",
                  "0",
                  "53.1",
                  "3.279029747687948",
                  "0",
                  "3",
                  "0",
                  "1",
                  "1",
                  "2"
                ],
                [
                  "4",
                  "35.0",
                  "1",
                  "0",
                  "0",
                  "8.05",
                  "2.0856720914304723",
                  "0",
                  "1",
                  "1",
                  "0",
                  "0",
                  "1"
                ]
              ],
              "shape": {
                "columns": 12,
                "rows": 5
              }
            },
            "text/html": [
              "<div>\n",
              "<style scoped>\n",
              "    .dataframe tbody tr th:only-of-type {\n",
              "        vertical-align: middle;\n",
              "    }\n",
              "\n",
              "    .dataframe tbody tr th {\n",
              "        vertical-align: top;\n",
              "    }\n",
              "\n",
              "    .dataframe thead th {\n",
              "        text-align: right;\n",
              "    }\n",
              "</style>\n",
              "<table border=\"1\" class=\"dataframe\">\n",
              "  <thead>\n",
              "    <tr style=\"text-align: right;\">\n",
              "      <th></th>\n",
              "      <th>Age</th>\n",
              "      <th>Embarked_0</th>\n",
              "      <th>Embarked_1</th>\n",
              "      <th>Embarked_2</th>\n",
              "      <th>Fare</th>\n",
              "      <th>Log_transformed_Fare Per Person</th>\n",
              "      <th>Parch</th>\n",
              "      <th>Pclass</th>\n",
              "      <th>Sex_0</th>\n",
              "      <th>Sex_1</th>\n",
              "      <th>Survived</th>\n",
              "      <th>Total People</th>\n",
              "    </tr>\n",
              "  </thead>\n",
              "  <tbody>\n",
              "    <tr>\n",
              "      <th>0</th>\n",
              "      <td>22.0</td>\n",
              "      <td>1</td>\n",
              "      <td>0</td>\n",
              "      <td>0</td>\n",
              "      <td>7.2500</td>\n",
              "      <td>1.287854</td>\n",
              "      <td>0</td>\n",
              "      <td>1</td>\n",
              "      <td>1</td>\n",
              "      <td>0</td>\n",
              "      <td>0</td>\n",
              "      <td>2</td>\n",
              "    </tr>\n",
              "    <tr>\n",
              "      <th>1</th>\n",
              "      <td>38.0</td>\n",
              "      <td>0</td>\n",
              "      <td>1</td>\n",
              "      <td>0</td>\n",
              "      <td>71.2833</td>\n",
              "      <td>3.573515</td>\n",
              "      <td>0</td>\n",
              "      <td>3</td>\n",
              "      <td>0</td>\n",
              "      <td>1</td>\n",
              "      <td>1</td>\n",
              "      <td>2</td>\n",
              "    </tr>\n",
              "    <tr>\n",
              "      <th>2</th>\n",
              "      <td>26.0</td>\n",
              "      <td>1</td>\n",
              "      <td>0</td>\n",
              "      <td>0</td>\n",
              "      <td>7.9250</td>\n",
              "      <td>2.070022</td>\n",
              "      <td>0</td>\n",
              "      <td>1</td>\n",
              "      <td>0</td>\n",
              "      <td>1</td>\n",
              "      <td>1</td>\n",
              "      <td>1</td>\n",
              "    </tr>\n",
              "    <tr>\n",
              "      <th>3</th>\n",
              "      <td>35.0</td>\n",
              "      <td>1</td>\n",
              "      <td>0</td>\n",
              "      <td>0</td>\n",
              "      <td>53.1000</td>\n",
              "      <td>3.279030</td>\n",
              "      <td>0</td>\n",
              "      <td>3</td>\n",
              "      <td>0</td>\n",
              "      <td>1</td>\n",
              "      <td>1</td>\n",
              "      <td>2</td>\n",
              "    </tr>\n",
              "    <tr>\n",
              "      <th>4</th>\n",
              "      <td>35.0</td>\n",
              "      <td>1</td>\n",
              "      <td>0</td>\n",
              "      <td>0</td>\n",
              "      <td>8.0500</td>\n",
              "      <td>2.085672</td>\n",
              "      <td>0</td>\n",
              "      <td>1</td>\n",
              "      <td>1</td>\n",
              "      <td>0</td>\n",
              "      <td>0</td>\n",
              "      <td>1</td>\n",
              "    </tr>\n",
              "  </tbody>\n",
              "</table>\n",
              "</div>"
            ],
            "text/plain": [
              "    Age  Embarked_0  Embarked_1  Embarked_2     Fare  \\\n",
              "0  22.0           1           0           0   7.2500   \n",
              "1  38.0           0           1           0  71.2833   \n",
              "2  26.0           1           0           0   7.9250   \n",
              "3  35.0           1           0           0  53.1000   \n",
              "4  35.0           1           0           0   8.0500   \n",
              "\n",
              "   Log_transformed_Fare Per Person  Parch  Pclass  Sex_0  Sex_1  Survived  \\\n",
              "0                         1.287854      0       1      1      0         0   \n",
              "1                         3.573515      0       3      0      1         1   \n",
              "2                         2.070022      0       1      0      1         1   \n",
              "3                         3.279030      0       3      0      1         1   \n",
              "4                         2.085672      0       1      1      0         0   \n",
              "\n",
              "   Total People  \n",
              "0             2  \n",
              "1             2  \n",
              "2             1  \n",
              "3             2  \n",
              "4             1  "
            ]
          },
          "execution_count": 158,
          "metadata": {},
          "output_type": "execute_result"
        }
      ],
      "source": [
        "# Encoding\n",
        "cols = [\"Sex\", \"Embarked\"]\n",
        "encoded_data = pd.get_dummies(data = new_data, columns = cols)\n",
        "encoded_data = encoded_data.replace({True: 1, False: 0})\n",
        "encoded_data = encoded_data[sorted(encoded_data)]\n",
        "encoded_data.head()"
      ]
    },
    {
      "cell_type": "code",
      "execution_count": 159,
      "metadata": {
        "colab": {
          "base_uri": "https://localhost:8080/"
        },
        "id": "sCfgSbmABGEm",
        "outputId": "90013018-15d8-4335-ce03-ef0b579151a1"
      },
      "outputs": [
        {
          "data": {
            "text/plain": [
              "6"
            ]
          },
          "execution_count": 159,
          "metadata": {},
          "output_type": "execute_result"
        }
      ],
      "source": [
        "X_train.columns.size"
      ]
    },
    {
      "cell_type": "code",
      "execution_count": 160,
      "metadata": {
        "collapsed": true,
        "id": "Bvbtfm0cBGEm",
        "scrolled": true
      },
      "outputs": [],
      "source": [
        "X_train = encoded_data.drop(\"Survived\", axis = 1)\n",
        "Y_train = encoded_data['Survived']\n",
        "model = RandomForestClassifier(n_jobs = -1,  max_depth = 4, n_estimators=50)\n",
        "model.fit(X_train, Y_train)\n",
        "y_train = model.predict(X_train)\n",
        "cv_scores = cross_val_score(model, X_train, Y_train, cv=5, scoring='accuracy')"
      ]
    },
    {
      "cell_type": "markdown",
      "metadata": {
        "id": "RM3I-jKaYyYn"
      },
      "source": []
    },
    {
      "cell_type": "code",
      "execution_count": 161,
      "metadata": {
        "colab": {
          "base_uri": "https://localhost:8080/",
          "height": 441
        },
        "id": "v2fianbVXgeM",
        "outputId": "0156c267-fde2-4120-986c-de68a0118ff0"
      },
      "outputs": [
        {
          "data": {
            "application/vnd.microsoft.datawrangler.viewer.v0+json": {
              "columns": [
                {
                  "name": "index",
                  "rawType": "int64",
                  "type": "integer"
                },
                {
                  "name": "Age",
                  "rawType": "float64",
                  "type": "float"
                },
                {
                  "name": "Embarked_0",
                  "rawType": "int64",
                  "type": "integer"
                },
                {
                  "name": "Embarked_1",
                  "rawType": "int64",
                  "type": "integer"
                },
                {
                  "name": "Embarked_2",
                  "rawType": "int64",
                  "type": "integer"
                },
                {
                  "name": "Fare",
                  "rawType": "float64",
                  "type": "float"
                },
                {
                  "name": "Log_transformed_Fare Per Person",
                  "rawType": "float64",
                  "type": "float"
                },
                {
                  "name": "Parch",
                  "rawType": "int64",
                  "type": "integer"
                },
                {
                  "name": "Pclass",
                  "rawType": "int64",
                  "type": "integer"
                },
                {
                  "name": "Sex_0",
                  "rawType": "int64",
                  "type": "integer"
                },
                {
                  "name": "Sex_1",
                  "rawType": "int64",
                  "type": "integer"
                },
                {
                  "name": "Total People",
                  "rawType": "int64",
                  "type": "integer"
                }
              ],
              "conversionMethod": "pd.DataFrame",
              "ref": "8c980441-cf09-4772-beb8-29b3e0f57311",
              "rows": [
                [
                  "0",
                  "22.0",
                  "1",
                  "0",
                  "0",
                  "7.25",
                  "1.2878542883066382",
                  "0",
                  "1",
                  "1",
                  "0",
                  "2"
                ],
                [
                  "1",
                  "38.0",
                  "0",
                  "1",
                  "0",
                  "71.2833",
                  "3.5735148978272644",
                  "0",
                  "3",
                  "0",
                  "1",
                  "2"
                ],
                [
                  "2",
                  "26.0",
                  "1",
                  "0",
                  "0",
                  "7.925",
                  "2.0700223197633445",
                  "0",
                  "1",
                  "0",
                  "1",
                  "1"
                ],
                [
                  "3",
                  "35.0",
                  "1",
                  "0",
                  "0",
                  "53.1",
                  "3.279029747687948",
                  "0",
                  "3",
                  "0",
                  "1",
                  "2"
                ],
                [
                  "4",
                  "35.0",
                  "1",
                  "0",
                  "0",
                  "8.05",
                  "2.0856720914304723",
                  "0",
                  "1",
                  "1",
                  "0",
                  "1"
                ],
                [
                  "5",
                  "33.0",
                  "0",
                  "0",
                  "1",
                  "8.4583",
                  "2.135148207799377",
                  "0",
                  "1",
                  "1",
                  "0",
                  "1"
                ],
                [
                  "6",
                  "54.0",
                  "1",
                  "0",
                  "0",
                  "51.8625",
                  "3.948595985658986",
                  "0",
                  "3",
                  "1",
                  "0",
                  "1"
                ],
                [
                  "7",
                  "2.0",
                  "1",
                  "0",
                  "0",
                  "21.075",
                  "1.4386495914538187",
                  "1",
                  "1",
                  "1",
                  "0",
                  "5"
                ],
                [
                  "8",
                  "27.0",
                  "1",
                  "0",
                  "0",
                  "11.1333",
                  "1.3113283286299773",
                  "2",
                  "1",
                  "0",
                  "1",
                  "3"
                ],
                [
                  "9",
                  "14.0",
                  "0",
                  "1",
                  "0",
                  "30.0708",
                  "2.7104074206758884",
                  "0",
                  "2",
                  "0",
                  "1",
                  "2"
                ],
                [
                  "10",
                  "4.0",
                  "1",
                  "0",
                  "0",
                  "16.7",
                  "1.7167964307545998",
                  "1",
                  "1",
                  "0",
                  "1",
                  "3"
                ],
                [
                  "11",
                  "58.0",
                  "1",
                  "0",
                  "0",
                  "26.55",
                  "3.279029747687948",
                  "0",
                  "3",
                  "0",
                  "1",
                  "1"
                ],
                [
                  "12",
                  "20.0",
                  "1",
                  "0",
                  "0",
                  "8.05",
                  "2.0856720914304723",
                  "0",
                  "1",
                  "1",
                  "0",
                  "1"
                ],
                [
                  "13",
                  "39.0",
                  "1",
                  "0",
                  "0",
                  "31.275",
                  "1.6510595871249196",
                  "4",
                  "1",
                  "1",
                  "0",
                  "6"
                ],
                [
                  "14",
                  "14.0",
                  "1",
                  "0",
                  "0",
                  "7.8542",
                  "2.061048420562944",
                  "0",
                  "1",
                  "0",
                  "1",
                  "1"
                ],
                [
                  "15",
                  "55.0",
                  "1",
                  "0",
                  "0",
                  "16.0",
                  "2.772588722239781",
                  "0",
                  "2",
                  "0",
                  "1",
                  "1"
                ],
                [
                  "16",
                  "2.0",
                  "0",
                  "0",
                  "1",
                  "29.125",
                  "1.5798374426578097",
                  "1",
                  "1",
                  "1",
                  "0",
                  "6"
                ],
                [
                  "17",
                  "32.0",
                  "1",
                  "0",
                  "0",
                  "13.0",
                  "2.5649493574615367",
                  "0",
                  "2",
                  "1",
                  "0",
                  "1"
                ],
                [
                  "18",
                  "31.0",
                  "1",
                  "0",
                  "0",
                  "18.0",
                  "2.1972245773362196",
                  "0",
                  "1",
                  "0",
                  "1",
                  "2"
                ],
                [
                  "19",
                  "13.0",
                  "0",
                  "1",
                  "0",
                  "7.225",
                  "1.9775472339984959",
                  "0",
                  "1",
                  "0",
                  "1",
                  "1"
                ],
                [
                  "20",
                  "35.0",
                  "1",
                  "0",
                  "0",
                  "26.0",
                  "3.258096538021482",
                  "0",
                  "2",
                  "1",
                  "0",
                  "1"
                ],
                [
                  "21",
                  "34.0",
                  "1",
                  "0",
                  "0",
                  "13.0",
                  "2.5649493574615367",
                  "0",
                  "2",
                  "1",
                  "0",
                  "1"
                ],
                [
                  "22",
                  "15.0",
                  "0",
                  "0",
                  "1",
                  "8.0292",
                  "2.0830848965946345",
                  "0",
                  "1",
                  "0",
                  "1",
                  "1"
                ],
                [
                  "23",
                  "28.0",
                  "1",
                  "0",
                  "0",
                  "35.5",
                  "3.56953269648137",
                  "0",
                  "3",
                  "1",
                  "0",
                  "1"
                ],
                [
                  "24",
                  "8.0",
                  "1",
                  "0",
                  "0",
                  "21.075",
                  "1.4386495914538187",
                  "1",
                  "1",
                  "0",
                  "1",
                  "5"
                ],
                [
                  "25",
                  "38.0",
                  "1",
                  "0",
                  "0",
                  "31.3875",
                  "1.6546502552556484",
                  "4",
                  "1",
                  "0",
                  "1",
                  "6"
                ],
                [
                  "26",
                  "30.0",
                  "0",
                  "1",
                  "0",
                  "7.225",
                  "1.9775472339984959",
                  "0",
                  "1",
                  "1",
                  "0",
                  "1"
                ],
                [
                  "27",
                  "22.0",
                  "0",
                  "0",
                  "1",
                  "7.8792",
                  "2.0642263758733557",
                  "0",
                  "1",
                  "0",
                  "1",
                  "1"
                ],
                [
                  "28",
                  "28.0",
                  "1",
                  "0",
                  "0",
                  "7.8958",
                  "2.0663309725297405",
                  "0",
                  "1",
                  "1",
                  "0",
                  "1"
                ],
                [
                  "29",
                  "40.0",
                  "0",
                  "1",
                  "0",
                  "27.7208",
                  "3.32218303393412",
                  "0",
                  "3",
                  "1",
                  "0",
                  "1"
                ],
                [
                  "30",
                  "34.0",
                  "0",
                  "1",
                  "0",
                  "146.5208",
                  "4.294020217341223",
                  "0",
                  "3",
                  "0",
                  "1",
                  "2"
                ],
                [
                  "31",
                  "25.0",
                  "0",
                  "0",
                  "1",
                  "7.75",
                  "2.0476928433652555",
                  "0",
                  "1",
                  "0",
                  "1",
                  "1"
                ],
                [
                  "32",
                  "72.4025492055241",
                  "1",
                  "0",
                  "0",
                  "10.5",
                  "2.3513752571634776",
                  "0",
                  "2",
                  "1",
                  "0",
                  "1"
                ],
                [
                  "33",
                  "28.0",
                  "0",
                  "1",
                  "0",
                  "82.1708",
                  "3.715652827249108",
                  "0",
                  "3",
                  "1",
                  "0",
                  "2"
                ],
                [
                  "34",
                  "42.0",
                  "1",
                  "0",
                  "0",
                  "52.0",
                  "3.258096538021482",
                  "0",
                  "3",
                  "1",
                  "0",
                  "2"
                ],
                [
                  "35",
                  "26.0",
                  "0",
                  "1",
                  "0",
                  "7.2292",
                  "1.9781283799793465",
                  "0",
                  "1",
                  "1",
                  "0",
                  "1"
                ],
                [
                  "36",
                  "21.0",
                  "1",
                  "0",
                  "0",
                  "8.05",
                  "2.0856720914304723",
                  "0",
                  "1",
                  "1",
                  "0",
                  "1"
                ],
                [
                  "37",
                  "18.0",
                  "1",
                  "0",
                  "0",
                  "18.0",
                  "1.791759469228055",
                  "0",
                  "1",
                  "0",
                  "1",
                  "3"
                ],
                [
                  "38",
                  "14.0",
                  "0",
                  "1",
                  "0",
                  "11.2417",
                  "1.7264828980207458",
                  "0",
                  "1",
                  "0",
                  "1",
                  "2"
                ],
                [
                  "39",
                  "40.0",
                  "1",
                  "0",
                  "0",
                  "9.475",
                  "1.5555095704085447",
                  "0",
                  "1",
                  "0",
                  "1",
                  "2"
                ],
                [
                  "40",
                  "27.0",
                  "1",
                  "0",
                  "0",
                  "21.0",
                  "2.3513752571634776",
                  "0",
                  "2",
                  "0",
                  "1",
                  "2"
                ],
                [
                  "41",
                  "28.0",
                  "0",
                  "1",
                  "0",
                  "7.8958",
                  "2.0663309725297405",
                  "0",
                  "1",
                  "1",
                  "0",
                  "1"
                ],
                [
                  "42",
                  "3.0",
                  "0",
                  "1",
                  "0",
                  "41.5792",
                  "2.3413056811056445",
                  "2",
                  "2",
                  "0",
                  "1",
                  "4"
                ],
                [
                  "43",
                  "19.0",
                  "0",
                  "0",
                  "1",
                  "7.8792",
                  "2.0642263758733557",
                  "0",
                  "1",
                  "0",
                  "1",
                  "1"
                ],
                [
                  "44",
                  "31.0",
                  "1",
                  "0",
                  "0",
                  "8.05",
                  "2.0856720914304723",
                  "0",
                  "1",
                  "1",
                  "0",
                  "1"
                ],
                [
                  "45",
                  "34.0",
                  "0",
                  "0",
                  "1",
                  "15.5",
                  "2.0476928433652555",
                  "0",
                  "1",
                  "1",
                  "0",
                  "2"
                ],
                [
                  "46",
                  "23.0",
                  "0",
                  "1",
                  "0",
                  "21.6792",
                  "1.9777409868534968",
                  "0",
                  "1",
                  "1",
                  "0",
                  "3"
                ],
                [
                  "47",
                  "18.0",
                  "1",
                  "0",
                  "0",
                  "17.8",
                  "2.186051276738094",
                  "0",
                  "1",
                  "0",
                  "1",
                  "2"
                ],
                [
                  "48",
                  "7.0",
                  "1",
                  "0",
                  "0",
                  "39.6875",
                  "1.8892768074248554",
                  "1",
                  "1",
                  "1",
                  "0",
                  "6"
                ],
                [
                  "49",
                  "21.0",
                  "1",
                  "0",
                  "0",
                  "7.8",
                  "2.0541237336955462",
                  "0",
                  "1",
                  "1",
                  "0",
                  "1"
                ]
              ],
              "shape": {
                "columns": 11,
                "rows": 743
              }
            },
            "text/html": [
              "<div>\n",
              "<style scoped>\n",
              "    .dataframe tbody tr th:only-of-type {\n",
              "        vertical-align: middle;\n",
              "    }\n",
              "\n",
              "    .dataframe tbody tr th {\n",
              "        vertical-align: top;\n",
              "    }\n",
              "\n",
              "    .dataframe thead th {\n",
              "        text-align: right;\n",
              "    }\n",
              "</style>\n",
              "<table border=\"1\" class=\"dataframe\">\n",
              "  <thead>\n",
              "    <tr style=\"text-align: right;\">\n",
              "      <th></th>\n",
              "      <th>Age</th>\n",
              "      <th>Embarked_0</th>\n",
              "      <th>Embarked_1</th>\n",
              "      <th>Embarked_2</th>\n",
              "      <th>Fare</th>\n",
              "      <th>Log_transformed_Fare Per Person</th>\n",
              "      <th>Parch</th>\n",
              "      <th>Pclass</th>\n",
              "      <th>Sex_0</th>\n",
              "      <th>Sex_1</th>\n",
              "      <th>Total People</th>\n",
              "    </tr>\n",
              "  </thead>\n",
              "  <tbody>\n",
              "    <tr>\n",
              "      <th>0</th>\n",
              "      <td>22.0</td>\n",
              "      <td>1</td>\n",
              "      <td>0</td>\n",
              "      <td>0</td>\n",
              "      <td>7.2500</td>\n",
              "      <td>1.287854</td>\n",
              "      <td>0</td>\n",
              "      <td>1</td>\n",
              "      <td>1</td>\n",
              "      <td>0</td>\n",
              "      <td>2</td>\n",
              "    </tr>\n",
              "    <tr>\n",
              "      <th>1</th>\n",
              "      <td>38.0</td>\n",
              "      <td>0</td>\n",
              "      <td>1</td>\n",
              "      <td>0</td>\n",
              "      <td>71.2833</td>\n",
              "      <td>3.573515</td>\n",
              "      <td>0</td>\n",
              "      <td>3</td>\n",
              "      <td>0</td>\n",
              "      <td>1</td>\n",
              "      <td>2</td>\n",
              "    </tr>\n",
              "    <tr>\n",
              "      <th>2</th>\n",
              "      <td>26.0</td>\n",
              "      <td>1</td>\n",
              "      <td>0</td>\n",
              "      <td>0</td>\n",
              "      <td>7.9250</td>\n",
              "      <td>2.070022</td>\n",
              "      <td>0</td>\n",
              "      <td>1</td>\n",
              "      <td>0</td>\n",
              "      <td>1</td>\n",
              "      <td>1</td>\n",
              "    </tr>\n",
              "    <tr>\n",
              "      <th>3</th>\n",
              "      <td>35.0</td>\n",
              "      <td>1</td>\n",
              "      <td>0</td>\n",
              "      <td>0</td>\n",
              "      <td>53.1000</td>\n",
              "      <td>3.279030</td>\n",
              "      <td>0</td>\n",
              "      <td>3</td>\n",
              "      <td>0</td>\n",
              "      <td>1</td>\n",
              "      <td>2</td>\n",
              "    </tr>\n",
              "    <tr>\n",
              "      <th>4</th>\n",
              "      <td>35.0</td>\n",
              "      <td>1</td>\n",
              "      <td>0</td>\n",
              "      <td>0</td>\n",
              "      <td>8.0500</td>\n",
              "      <td>2.085672</td>\n",
              "      <td>0</td>\n",
              "      <td>1</td>\n",
              "      <td>1</td>\n",
              "      <td>0</td>\n",
              "      <td>1</td>\n",
              "    </tr>\n",
              "    <tr>\n",
              "      <th>...</th>\n",
              "      <td>...</td>\n",
              "      <td>...</td>\n",
              "      <td>...</td>\n",
              "      <td>...</td>\n",
              "      <td>...</td>\n",
              "      <td>...</td>\n",
              "      <td>...</td>\n",
              "      <td>...</td>\n",
              "      <td>...</td>\n",
              "      <td>...</td>\n",
              "      <td>...</td>\n",
              "    </tr>\n",
              "    <tr>\n",
              "      <th>738</th>\n",
              "      <td>28.0</td>\n",
              "      <td>1</td>\n",
              "      <td>0</td>\n",
              "      <td>0</td>\n",
              "      <td>10.5000</td>\n",
              "      <td>2.351375</td>\n",
              "      <td>0</td>\n",
              "      <td>2</td>\n",
              "      <td>1</td>\n",
              "      <td>0</td>\n",
              "      <td>1</td>\n",
              "    </tr>\n",
              "    <tr>\n",
              "      <th>739</th>\n",
              "      <td>19.0</td>\n",
              "      <td>1</td>\n",
              "      <td>0</td>\n",
              "      <td>0</td>\n",
              "      <td>30.0000</td>\n",
              "      <td>3.401197</td>\n",
              "      <td>0</td>\n",
              "      <td>3</td>\n",
              "      <td>0</td>\n",
              "      <td>1</td>\n",
              "      <td>1</td>\n",
              "    </tr>\n",
              "    <tr>\n",
              "      <th>740</th>\n",
              "      <td>27.0</td>\n",
              "      <td>1</td>\n",
              "      <td>0</td>\n",
              "      <td>0</td>\n",
              "      <td>23.4500</td>\n",
              "      <td>1.768576</td>\n",
              "      <td>2</td>\n",
              "      <td>1</td>\n",
              "      <td>0</td>\n",
              "      <td>1</td>\n",
              "      <td>4</td>\n",
              "    </tr>\n",
              "    <tr>\n",
              "      <th>741</th>\n",
              "      <td>26.0</td>\n",
              "      <td>0</td>\n",
              "      <td>1</td>\n",
              "      <td>0</td>\n",
              "      <td>30.0000</td>\n",
              "      <td>3.401197</td>\n",
              "      <td>0</td>\n",
              "      <td>3</td>\n",
              "      <td>1</td>\n",
              "      <td>0</td>\n",
              "      <td>1</td>\n",
              "    </tr>\n",
              "    <tr>\n",
              "      <th>742</th>\n",
              "      <td>32.0</td>\n",
              "      <td>0</td>\n",
              "      <td>0</td>\n",
              "      <td>1</td>\n",
              "      <td>7.7500</td>\n",
              "      <td>2.047693</td>\n",
              "      <td>0</td>\n",
              "      <td>1</td>\n",
              "      <td>1</td>\n",
              "      <td>0</td>\n",
              "      <td>1</td>\n",
              "    </tr>\n",
              "  </tbody>\n",
              "</table>\n",
              "<p>743 rows × 11 columns</p>\n",
              "</div>"
            ],
            "text/plain": [
              "      Age  Embarked_0  Embarked_1  Embarked_2     Fare  \\\n",
              "0    22.0           1           0           0   7.2500   \n",
              "1    38.0           0           1           0  71.2833   \n",
              "2    26.0           1           0           0   7.9250   \n",
              "3    35.0           1           0           0  53.1000   \n",
              "4    35.0           1           0           0   8.0500   \n",
              "..    ...         ...         ...         ...      ...   \n",
              "738  28.0           1           0           0  10.5000   \n",
              "739  19.0           1           0           0  30.0000   \n",
              "740  27.0           1           0           0  23.4500   \n",
              "741  26.0           0           1           0  30.0000   \n",
              "742  32.0           0           0           1   7.7500   \n",
              "\n",
              "     Log_transformed_Fare Per Person  Parch  Pclass  Sex_0  Sex_1  \\\n",
              "0                           1.287854      0       1      1      0   \n",
              "1                           3.573515      0       3      0      1   \n",
              "2                           2.070022      0       1      0      1   \n",
              "3                           3.279030      0       3      0      1   \n",
              "4                           2.085672      0       1      1      0   \n",
              "..                               ...    ...     ...    ...    ...   \n",
              "738                         2.351375      0       2      1      0   \n",
              "739                         3.401197      0       3      0      1   \n",
              "740                         1.768576      2       1      0      1   \n",
              "741                         3.401197      0       3      1      0   \n",
              "742                         2.047693      0       1      1      0   \n",
              "\n",
              "     Total People  \n",
              "0               2  \n",
              "1               2  \n",
              "2               1  \n",
              "3               2  \n",
              "4               1  \n",
              "..            ...  \n",
              "738             1  \n",
              "739             1  \n",
              "740             4  \n",
              "741             1  \n",
              "742             1  \n",
              "\n",
              "[743 rows x 11 columns]"
            ]
          },
          "execution_count": 161,
          "metadata": {},
          "output_type": "execute_result"
        }
      ],
      "source": [
        "X_train"
      ]
    },
    {
      "cell_type": "code",
      "execution_count": 162,
      "metadata": {
        "colab": {
          "base_uri": "https://localhost:8080/"
        },
        "id": "93xePkoUBGEn",
        "outputId": "bb762e2b-da74-4b0e-c82c-68a960c3f3b9"
      },
      "outputs": [
        {
          "name": "stdout",
          "output_type": "stream",
          "text": [
            "Cross-Validation Accuracy: 0.7766279702521314\n",
            "NICE\n"
          ]
        }
      ],
      "source": [
        "print(\"Cross-Validation Accuracy:\", np.mean(cv_scores))\n",
        "print(\"NICE\")"
      ]
    },
    {
      "cell_type": "code",
      "execution_count": 163,
      "metadata": {
        "colab": {
          "base_uri": "https://localhost:8080/",
          "height": 441
        },
        "id": "NOCaEnisBGEn",
        "outputId": "4fa4e7a3-4561-494b-cb80-18572c892c61"
      },
      "outputs": [
        {
          "data": {
            "application/vnd.microsoft.datawrangler.viewer.v0+json": {
              "columns": [
                {
                  "name": "index",
                  "rawType": "int64",
                  "type": "integer"
                },
                {
                  "name": "Age",
                  "rawType": "float64",
                  "type": "float"
                },
                {
                  "name": "Embarked_0",
                  "rawType": "bool",
                  "type": "boolean"
                },
                {
                  "name": "Embarked_1",
                  "rawType": "bool",
                  "type": "boolean"
                },
                {
                  "name": "Embarked_2",
                  "rawType": "bool",
                  "type": "boolean"
                },
                {
                  "name": "Fare",
                  "rawType": "float64",
                  "type": "float"
                },
                {
                  "name": "Log_transformed_Fare Per Person",
                  "rawType": "float64",
                  "type": "float"
                },
                {
                  "name": "Parch",
                  "rawType": "int64",
                  "type": "integer"
                },
                {
                  "name": "Pclass",
                  "rawType": "int64",
                  "type": "integer"
                },
                {
                  "name": "Sex_0",
                  "rawType": "bool",
                  "type": "boolean"
                },
                {
                  "name": "Sex_1",
                  "rawType": "bool",
                  "type": "boolean"
                },
                {
                  "name": "Total People",
                  "rawType": "int64",
                  "type": "integer"
                }
              ],
              "conversionMethod": "pd.DataFrame",
              "ref": "797cd848-baf6-4144-8219-9a31e275cb66",
              "rows": [
                [
                  "0",
                  "34.5",
                  "True",
                  "False",
                  "False",
                  "7.8292",
                  "2.0578603336462318",
                  "0",
                  "1",
                  "True",
                  "False",
                  "1"
                ],
                [
                  "1",
                  "47.0",
                  "False",
                  "True",
                  "False",
                  "7.0",
                  "1.252762968495368",
                  "0",
                  "1",
                  "False",
                  "True",
                  "2"
                ],
                [
                  "2",
                  "62.0",
                  "True",
                  "False",
                  "False",
                  "9.6875",
                  "2.270836394679465",
                  "0",
                  "2",
                  "True",
                  "False",
                  "1"
                ],
                [
                  "3",
                  "27.0",
                  "False",
                  "True",
                  "False",
                  "8.6625",
                  "2.1590033645160216",
                  "0",
                  "1",
                  "True",
                  "False",
                  "1"
                ],
                [
                  "4",
                  "22.0",
                  "False",
                  "True",
                  "False",
                  "12.2875",
                  "1.4099701968051752",
                  "1",
                  "1",
                  "False",
                  "True",
                  "3"
                ],
                [
                  "5",
                  "14.0",
                  "False",
                  "True",
                  "False",
                  "9.225",
                  "2.221917189926591",
                  "0",
                  "1",
                  "True",
                  "False",
                  "1"
                ],
                [
                  "6",
                  "30.0",
                  "True",
                  "False",
                  "False",
                  "7.6292",
                  "2.0319829905201345",
                  "0",
                  "1",
                  "False",
                  "True",
                  "1"
                ],
                [
                  "7",
                  "26.0",
                  "False",
                  "True",
                  "False",
                  "29.0",
                  "2.268683541318364",
                  "1",
                  "2",
                  "True",
                  "False",
                  "3"
                ],
                [
                  "8",
                  "18.0",
                  "False",
                  "False",
                  "True",
                  "7.2292",
                  "1.9781283799793465",
                  "0",
                  "1",
                  "False",
                  "True",
                  "1"
                ],
                [
                  "9",
                  "21.0",
                  "False",
                  "True",
                  "False",
                  "24.15",
                  "2.085672091430472",
                  "0",
                  "1",
                  "True",
                  "False",
                  "3"
                ],
                [
                  "10",
                  "28.0",
                  "False",
                  "True",
                  "False",
                  "7.8958",
                  "2.0663309725297405",
                  "0",
                  "1",
                  "True",
                  "False",
                  "1"
                ],
                [
                  "11",
                  "46.0",
                  "False",
                  "True",
                  "False",
                  "26.0",
                  "3.258096538021482",
                  "0",
                  "3",
                  "True",
                  "False",
                  "1"
                ],
                [
                  "12",
                  "23.0",
                  "False",
                  "True",
                  "False",
                  "82.2667",
                  "3.7168192279894816",
                  "0",
                  "3",
                  "False",
                  "True",
                  "2"
                ],
                [
                  "13",
                  "63.0",
                  "False",
                  "True",
                  "False",
                  "26.0",
                  "2.5649493574615367",
                  "0",
                  "2",
                  "True",
                  "False",
                  "2"
                ],
                [
                  "14",
                  "47.0",
                  "False",
                  "True",
                  "False",
                  "61.175",
                  "3.42059142876879",
                  "0",
                  "3",
                  "False",
                  "True",
                  "2"
                ],
                [
                  "15",
                  "24.0",
                  "False",
                  "False",
                  "True",
                  "27.7208",
                  "2.6290358533741744",
                  "0",
                  "2",
                  "False",
                  "True",
                  "2"
                ],
                [
                  "16",
                  "35.0",
                  "True",
                  "False",
                  "False",
                  "12.35",
                  "2.513656063073986",
                  "0",
                  "2",
                  "True",
                  "False",
                  "1"
                ],
                [
                  "17",
                  "21.0",
                  "False",
                  "False",
                  "True",
                  "7.225",
                  "1.9775472339984959",
                  "0",
                  "1",
                  "True",
                  "False",
                  "1"
                ],
                [
                  "18",
                  "27.0",
                  "False",
                  "True",
                  "False",
                  "7.925",
                  "1.3768751392033989",
                  "0",
                  "1",
                  "False",
                  "True",
                  "2"
                ],
                [
                  "19",
                  "45.0",
                  "False",
                  "False",
                  "True",
                  "7.225",
                  "1.9775472339984959",
                  "0",
                  "1",
                  "False",
                  "True",
                  "1"
                ],
                [
                  "20",
                  "55.0",
                  "False",
                  "False",
                  "True",
                  "59.4",
                  "3.391147045808654",
                  "0",
                  "3",
                  "True",
                  "False",
                  "2"
                ],
                [
                  "21",
                  "9.0",
                  "False",
                  "True",
                  "False",
                  "3.1708",
                  "0.4608367414209184",
                  "1",
                  "1",
                  "True",
                  "False",
                  "2"
                ],
                [
                  "22",
                  "39.0",
                  "False",
                  "True",
                  "False",
                  "31.6833",
                  "3.4557897281879213",
                  "0",
                  "3",
                  "False",
                  "True",
                  "1"
                ],
                [
                  "23",
                  "21.0",
                  "False",
                  "False",
                  "True",
                  "61.3792",
                  "3.4239238349852865",
                  "1",
                  "3",
                  "True",
                  "False",
                  "2"
                ],
                [
                  "24",
                  "48.0",
                  "False",
                  "False",
                  "True",
                  "262.375",
                  "3.960336865706697",
                  "3",
                  "3",
                  "False",
                  "True",
                  "5"
                ],
                [
                  "25",
                  "50.0",
                  "False",
                  "True",
                  "False",
                  "14.5",
                  "1.9810014688665833",
                  "0",
                  "1",
                  "True",
                  "False",
                  "2"
                ],
                [
                  "26",
                  "22.0",
                  "False",
                  "False",
                  "True",
                  "61.9792",
                  "3.4336516643268755",
                  "1",
                  "3",
                  "False",
                  "True",
                  "2"
                ],
                [
                  "27",
                  "22.5",
                  "False",
                  "False",
                  "True",
                  "7.225",
                  "1.9775472339984959",
                  "0",
                  "1",
                  "True",
                  "False",
                  "1"
                ],
                [
                  "28",
                  "41.0",
                  "False",
                  "True",
                  "False",
                  "30.5",
                  "3.417726683613366",
                  "0",
                  "3",
                  "True",
                  "False",
                  "1"
                ],
                [
                  "29",
                  "31.0",
                  "False",
                  "False",
                  "True",
                  "21.6792",
                  "1.9777409868534968",
                  "0",
                  "1",
                  "True",
                  "False",
                  "3"
                ],
                [
                  "30",
                  "50.0",
                  "False",
                  "True",
                  "False",
                  "26.0",
                  "2.5649493574615367",
                  "0",
                  "2",
                  "True",
                  "False",
                  "2"
                ],
                [
                  "31",
                  "24.0",
                  "False",
                  "True",
                  "False",
                  "31.5",
                  "2.3513752571634776",
                  "0",
                  "2",
                  "True",
                  "False",
                  "3"
                ],
                [
                  "32",
                  "33.0",
                  "False",
                  "True",
                  "False",
                  "20.575",
                  "1.637782385443243",
                  "2",
                  "1",
                  "False",
                  "True",
                  "4"
                ],
                [
                  "33",
                  "19.0",
                  "False",
                  "True",
                  "False",
                  "23.45",
                  "1.7685761337723978",
                  "2",
                  "1",
                  "False",
                  "True",
                  "4"
                ],
                [
                  "34",
                  "30.0",
                  "False",
                  "False",
                  "True",
                  "57.75",
                  "3.3629761688419575",
                  "0",
                  "3",
                  "True",
                  "False",
                  "2"
                ],
                [
                  "35",
                  "18.5",
                  "False",
                  "False",
                  "True",
                  "7.2292",
                  "1.9781283799793465",
                  "0",
                  "1",
                  "True",
                  "False",
                  "1"
                ],
                [
                  "36",
                  "14.0",
                  "False",
                  "True",
                  "False",
                  "8.05",
                  "2.0856720914304723",
                  "0",
                  "1",
                  "False",
                  "True",
                  "1"
                ],
                [
                  "37",
                  "21.0",
                  "False",
                  "True",
                  "False",
                  "8.6625",
                  "2.1590033645160216",
                  "0",
                  "1",
                  "False",
                  "True",
                  "1"
                ],
                [
                  "38",
                  "25.0",
                  "False",
                  "True",
                  "False",
                  "9.5",
                  "2.2512917986064953",
                  "0",
                  "1",
                  "True",
                  "False",
                  "1"
                ],
                [
                  "39",
                  "27.0",
                  "False",
                  "True",
                  "False",
                  "56.4958",
                  "4.034166299106131",
                  "0",
                  "1",
                  "True",
                  "False",
                  "1"
                ],
                [
                  "40",
                  "39.0",
                  "False",
                  "False",
                  "True",
                  "13.4167",
                  "1.9033530191054808",
                  "1",
                  "1",
                  "True",
                  "False",
                  "2"
                ],
                [
                  "41",
                  "45.0",
                  "False",
                  "True",
                  "False",
                  "26.55",
                  "3.279029747687948",
                  "0",
                  "3",
                  "True",
                  "False",
                  "1"
                ],
                [
                  "42",
                  "41.0",
                  "False",
                  "True",
                  "False",
                  "7.85",
                  "2.060513531794317",
                  "0",
                  "1",
                  "True",
                  "False",
                  "1"
                ],
                [
                  "43",
                  "30.0",
                  "False",
                  "True",
                  "False",
                  "13.0",
                  "2.5649493574615367",
                  "0",
                  "2",
                  "False",
                  "True",
                  "1"
                ],
                [
                  "44",
                  "45.0",
                  "False",
                  "True",
                  "False",
                  "52.5542",
                  "3.2686978374512887",
                  "0",
                  "3",
                  "False",
                  "True",
                  "2"
                ],
                [
                  "45",
                  "25.0",
                  "False",
                  "True",
                  "False",
                  "7.925",
                  "2.0700223197633445",
                  "0",
                  "1",
                  "True",
                  "False",
                  "1"
                ],
                [
                  "46",
                  "45.0",
                  "False",
                  "False",
                  "True",
                  "29.7",
                  "3.391147045808654",
                  "0",
                  "3",
                  "True",
                  "False",
                  "1"
                ],
                [
                  "47",
                  "35.0",
                  "True",
                  "False",
                  "False",
                  "7.75",
                  "2.0476928433652555",
                  "0",
                  "1",
                  "True",
                  "False",
                  "1"
                ],
                [
                  "48",
                  "60.0",
                  "False",
                  "False",
                  "True",
                  "76.2917",
                  "4.334564151246186",
                  "0",
                  "3",
                  "False",
                  "True",
                  "1"
                ],
                [
                  "49",
                  "36.0",
                  "False",
                  "True",
                  "False",
                  "15.9",
                  "1.667706820558076",
                  "2",
                  "1",
                  "False",
                  "True",
                  "3"
                ]
              ],
              "shape": {
                "columns": 11,
                "rows": 418
              }
            },
            "text/html": [
              "<div>\n",
              "<style scoped>\n",
              "    .dataframe tbody tr th:only-of-type {\n",
              "        vertical-align: middle;\n",
              "    }\n",
              "\n",
              "    .dataframe tbody tr th {\n",
              "        vertical-align: top;\n",
              "    }\n",
              "\n",
              "    .dataframe thead th {\n",
              "        text-align: right;\n",
              "    }\n",
              "</style>\n",
              "<table border=\"1\" class=\"dataframe\">\n",
              "  <thead>\n",
              "    <tr style=\"text-align: right;\">\n",
              "      <th></th>\n",
              "      <th>Age</th>\n",
              "      <th>Embarked_0</th>\n",
              "      <th>Embarked_1</th>\n",
              "      <th>Embarked_2</th>\n",
              "      <th>Fare</th>\n",
              "      <th>Log_transformed_Fare Per Person</th>\n",
              "      <th>Parch</th>\n",
              "      <th>Pclass</th>\n",
              "      <th>Sex_0</th>\n",
              "      <th>Sex_1</th>\n",
              "      <th>Total People</th>\n",
              "    </tr>\n",
              "  </thead>\n",
              "  <tbody>\n",
              "    <tr>\n",
              "      <th>0</th>\n",
              "      <td>34.5</td>\n",
              "      <td>True</td>\n",
              "      <td>False</td>\n",
              "      <td>False</td>\n",
              "      <td>7.8292</td>\n",
              "      <td>2.057860</td>\n",
              "      <td>0</td>\n",
              "      <td>1</td>\n",
              "      <td>True</td>\n",
              "      <td>False</td>\n",
              "      <td>1</td>\n",
              "    </tr>\n",
              "    <tr>\n",
              "      <th>1</th>\n",
              "      <td>47.0</td>\n",
              "      <td>False</td>\n",
              "      <td>True</td>\n",
              "      <td>False</td>\n",
              "      <td>7.0000</td>\n",
              "      <td>1.252763</td>\n",
              "      <td>0</td>\n",
              "      <td>1</td>\n",
              "      <td>False</td>\n",
              "      <td>True</td>\n",
              "      <td>2</td>\n",
              "    </tr>\n",
              "    <tr>\n",
              "      <th>2</th>\n",
              "      <td>62.0</td>\n",
              "      <td>True</td>\n",
              "      <td>False</td>\n",
              "      <td>False</td>\n",
              "      <td>9.6875</td>\n",
              "      <td>2.270836</td>\n",
              "      <td>0</td>\n",
              "      <td>2</td>\n",
              "      <td>True</td>\n",
              "      <td>False</td>\n",
              "      <td>1</td>\n",
              "    </tr>\n",
              "    <tr>\n",
              "      <th>3</th>\n",
              "      <td>27.0</td>\n",
              "      <td>False</td>\n",
              "      <td>True</td>\n",
              "      <td>False</td>\n",
              "      <td>8.6625</td>\n",
              "      <td>2.159003</td>\n",
              "      <td>0</td>\n",
              "      <td>1</td>\n",
              "      <td>True</td>\n",
              "      <td>False</td>\n",
              "      <td>1</td>\n",
              "    </tr>\n",
              "    <tr>\n",
              "      <th>4</th>\n",
              "      <td>22.0</td>\n",
              "      <td>False</td>\n",
              "      <td>True</td>\n",
              "      <td>False</td>\n",
              "      <td>12.2875</td>\n",
              "      <td>1.409970</td>\n",
              "      <td>1</td>\n",
              "      <td>1</td>\n",
              "      <td>False</td>\n",
              "      <td>True</td>\n",
              "      <td>3</td>\n",
              "    </tr>\n",
              "    <tr>\n",
              "      <th>...</th>\n",
              "      <td>...</td>\n",
              "      <td>...</td>\n",
              "      <td>...</td>\n",
              "      <td>...</td>\n",
              "      <td>...</td>\n",
              "      <td>...</td>\n",
              "      <td>...</td>\n",
              "      <td>...</td>\n",
              "      <td>...</td>\n",
              "      <td>...</td>\n",
              "      <td>...</td>\n",
              "    </tr>\n",
              "    <tr>\n",
              "      <th>413</th>\n",
              "      <td>28.0</td>\n",
              "      <td>False</td>\n",
              "      <td>True</td>\n",
              "      <td>False</td>\n",
              "      <td>8.0500</td>\n",
              "      <td>2.085672</td>\n",
              "      <td>0</td>\n",
              "      <td>1</td>\n",
              "      <td>True</td>\n",
              "      <td>False</td>\n",
              "      <td>1</td>\n",
              "    </tr>\n",
              "    <tr>\n",
              "      <th>414</th>\n",
              "      <td>39.0</td>\n",
              "      <td>False</td>\n",
              "      <td>False</td>\n",
              "      <td>True</td>\n",
              "      <td>108.9000</td>\n",
              "      <td>4.690430</td>\n",
              "      <td>0</td>\n",
              "      <td>3</td>\n",
              "      <td>False</td>\n",
              "      <td>True</td>\n",
              "      <td>1</td>\n",
              "    </tr>\n",
              "    <tr>\n",
              "      <th>415</th>\n",
              "      <td>38.5</td>\n",
              "      <td>False</td>\n",
              "      <td>True</td>\n",
              "      <td>False</td>\n",
              "      <td>7.2500</td>\n",
              "      <td>1.981001</td>\n",
              "      <td>0</td>\n",
              "      <td>1</td>\n",
              "      <td>True</td>\n",
              "      <td>False</td>\n",
              "      <td>1</td>\n",
              "    </tr>\n",
              "    <tr>\n",
              "      <th>416</th>\n",
              "      <td>28.0</td>\n",
              "      <td>False</td>\n",
              "      <td>True</td>\n",
              "      <td>False</td>\n",
              "      <td>8.0500</td>\n",
              "      <td>2.085672</td>\n",
              "      <td>0</td>\n",
              "      <td>1</td>\n",
              "      <td>True</td>\n",
              "      <td>False</td>\n",
              "      <td>1</td>\n",
              "    </tr>\n",
              "    <tr>\n",
              "      <th>417</th>\n",
              "      <td>31.0</td>\n",
              "      <td>False</td>\n",
              "      <td>False</td>\n",
              "      <td>True</td>\n",
              "      <td>22.3583</td>\n",
              "      <td>2.008585</td>\n",
              "      <td>1</td>\n",
              "      <td>1</td>\n",
              "      <td>True</td>\n",
              "      <td>False</td>\n",
              "      <td>3</td>\n",
              "    </tr>\n",
              "  </tbody>\n",
              "</table>\n",
              "<p>418 rows × 11 columns</p>\n",
              "</div>"
            ],
            "text/plain": [
              "      Age  Embarked_0  Embarked_1  Embarked_2      Fare  \\\n",
              "0    34.5        True       False       False    7.8292   \n",
              "1    47.0       False        True       False    7.0000   \n",
              "2    62.0        True       False       False    9.6875   \n",
              "3    27.0       False        True       False    8.6625   \n",
              "4    22.0       False        True       False   12.2875   \n",
              "..    ...         ...         ...         ...       ...   \n",
              "413  28.0       False        True       False    8.0500   \n",
              "414  39.0       False       False        True  108.9000   \n",
              "415  38.5       False        True       False    7.2500   \n",
              "416  28.0       False        True       False    8.0500   \n",
              "417  31.0       False       False        True   22.3583   \n",
              "\n",
              "     Log_transformed_Fare Per Person  Parch  Pclass  Sex_0  Sex_1  \\\n",
              "0                           2.057860      0       1   True  False   \n",
              "1                           1.252763      0       1  False   True   \n",
              "2                           2.270836      0       2   True  False   \n",
              "3                           2.159003      0       1   True  False   \n",
              "4                           1.409970      1       1  False   True   \n",
              "..                               ...    ...     ...    ...    ...   \n",
              "413                         2.085672      0       1   True  False   \n",
              "414                         4.690430      0       3  False   True   \n",
              "415                         1.981001      0       1   True  False   \n",
              "416                         2.085672      0       1   True  False   \n",
              "417                         2.008585      1       1   True  False   \n",
              "\n",
              "     Total People  \n",
              "0               1  \n",
              "1               2  \n",
              "2               1  \n",
              "3               1  \n",
              "4               3  \n",
              "..            ...  \n",
              "413             1  \n",
              "414             1  \n",
              "415             1  \n",
              "416             1  \n",
              "417             3  \n",
              "\n",
              "[418 rows x 11 columns]"
            ]
          },
          "execution_count": 163,
          "metadata": {},
          "output_type": "execute_result"
        }
      ],
      "source": [
        "test = test.replace({-np.inf:0})\n",
        "test.drop(inplace=True, axis = 0, columns = ['Fare Per Person', 'SibSp'])\n",
        "test = test.replace({True: 1, False: 0})\n",
        "test['Pclass'] = test['Pclass'].replace({3: 1, 1:3})\n",
        "cols = [\"Sex\", \"Embarked\"]\n",
        "encoded_data_test = pd.get_dummies(data = test, columns = cols)\n",
        "X_test = encoded_data_test[sorted(encoded_data_test)]\n",
        "X_test"
      ]
    },
    {
      "cell_type": "code",
      "execution_count": 164,
      "metadata": {
        "id": "GOImZIfIBGEn"
      },
      "outputs": [],
      "source": [
        "y_test = model.predict(X_test)\n"
      ]
    },
    {
      "cell_type": "code",
      "execution_count": 165,
      "metadata": {
        "id": "X4I_PgGlBGEn"
      },
      "outputs": [],
      "source": [
        "np.savetxt('arrayFinal1.csv', y_test, delimiter=',', fmt='%d')\n"
      ]
    },
    {
      "cell_type": "code",
      "execution_count": 166,
      "metadata": {
        "id": "GmfhoXWIBGEo"
      },
      "outputs": [],
      "source": [
        "y_test = pd.DataFrame(y_test)"
      ]
    },
    {
      "cell_type": "code",
      "execution_count": 167,
      "metadata": {
        "id": "FD77i75KBGEq"
      },
      "outputs": [],
      "source": [
        "testResult = pd.read_csv('./titanic/gender_submission.csv')"
      ]
    },
    {
      "cell_type": "code",
      "execution_count": 168,
      "metadata": {
        "id": "koMKiPnYBGEq"
      },
      "outputs": [],
      "source": [
        "testResult['Survived'] = y_test"
      ]
    },
    {
      "cell_type": "code",
      "execution_count": 169,
      "metadata": {
        "colab": {
          "base_uri": "https://localhost:8080/",
          "height": 363
        },
        "id": "WMy-jwYUBGEr",
        "outputId": "e536cf17-4256-44a0-f120-02723ae19cfc"
      },
      "outputs": [
        {
          "data": {
            "application/vnd.microsoft.datawrangler.viewer.v0+json": {
              "columns": [
                {
                  "name": "index",
                  "rawType": "int64",
                  "type": "integer"
                },
                {
                  "name": "PassengerId",
                  "rawType": "int64",
                  "type": "integer"
                },
                {
                  "name": "Survived",
                  "rawType": "int64",
                  "type": "integer"
                }
              ],
              "conversionMethod": "pd.DataFrame",
              "ref": "9c941053-6691-4a16-855d-5897b1fa399e",
              "rows": [
                [
                  "0",
                  "892",
                  "0"
                ],
                [
                  "1",
                  "893",
                  "0"
                ],
                [
                  "2",
                  "894",
                  "0"
                ],
                [
                  "3",
                  "895",
                  "0"
                ],
                [
                  "4",
                  "896",
                  "1"
                ],
                [
                  "5",
                  "897",
                  "0"
                ],
                [
                  "6",
                  "898",
                  "1"
                ],
                [
                  "7",
                  "899",
                  "0"
                ],
                [
                  "8",
                  "900",
                  "1"
                ],
                [
                  "9",
                  "901",
                  "0"
                ]
              ],
              "shape": {
                "columns": 2,
                "rows": 10
              }
            },
            "text/html": [
              "<div>\n",
              "<style scoped>\n",
              "    .dataframe tbody tr th:only-of-type {\n",
              "        vertical-align: middle;\n",
              "    }\n",
              "\n",
              "    .dataframe tbody tr th {\n",
              "        vertical-align: top;\n",
              "    }\n",
              "\n",
              "    .dataframe thead th {\n",
              "        text-align: right;\n",
              "    }\n",
              "</style>\n",
              "<table border=\"1\" class=\"dataframe\">\n",
              "  <thead>\n",
              "    <tr style=\"text-align: right;\">\n",
              "      <th></th>\n",
              "      <th>PassengerId</th>\n",
              "      <th>Survived</th>\n",
              "    </tr>\n",
              "  </thead>\n",
              "  <tbody>\n",
              "    <tr>\n",
              "      <th>0</th>\n",
              "      <td>892</td>\n",
              "      <td>0</td>\n",
              "    </tr>\n",
              "    <tr>\n",
              "      <th>1</th>\n",
              "      <td>893</td>\n",
              "      <td>0</td>\n",
              "    </tr>\n",
              "    <tr>\n",
              "      <th>2</th>\n",
              "      <td>894</td>\n",
              "      <td>0</td>\n",
              "    </tr>\n",
              "    <tr>\n",
              "      <th>3</th>\n",
              "      <td>895</td>\n",
              "      <td>0</td>\n",
              "    </tr>\n",
              "    <tr>\n",
              "      <th>4</th>\n",
              "      <td>896</td>\n",
              "      <td>1</td>\n",
              "    </tr>\n",
              "    <tr>\n",
              "      <th>5</th>\n",
              "      <td>897</td>\n",
              "      <td>0</td>\n",
              "    </tr>\n",
              "    <tr>\n",
              "      <th>6</th>\n",
              "      <td>898</td>\n",
              "      <td>1</td>\n",
              "    </tr>\n",
              "    <tr>\n",
              "      <th>7</th>\n",
              "      <td>899</td>\n",
              "      <td>0</td>\n",
              "    </tr>\n",
              "    <tr>\n",
              "      <th>8</th>\n",
              "      <td>900</td>\n",
              "      <td>1</td>\n",
              "    </tr>\n",
              "    <tr>\n",
              "      <th>9</th>\n",
              "      <td>901</td>\n",
              "      <td>0</td>\n",
              "    </tr>\n",
              "  </tbody>\n",
              "</table>\n",
              "</div>"
            ],
            "text/plain": [
              "   PassengerId  Survived\n",
              "0          892         0\n",
              "1          893         0\n",
              "2          894         0\n",
              "3          895         0\n",
              "4          896         1\n",
              "5          897         0\n",
              "6          898         1\n",
              "7          899         0\n",
              "8          900         1\n",
              "9          901         0"
            ]
          },
          "execution_count": 169,
          "metadata": {},
          "output_type": "execute_result"
        }
      ],
      "source": [
        "testResult.head(10)"
      ]
    },
    {
      "cell_type": "code",
      "execution_count": 170,
      "metadata": {
        "id": "t81hORVwBGEr"
      },
      "outputs": [],
      "source": [
        "testResult.to_csv('Submission_file_nameRandom2.csv', index=False , header = 1)\n",
        "#"
      ]
    },
    {
      "cell_type": "code",
      "execution_count": null,
      "metadata": {
        "id": "szRuLUItBGEr"
      },
      "outputs": [],
      "source": []
    }
  ],
  "metadata": {
    "colab": {
      "provenance": []
    },
    "kernelspec": {
      "display_name": "Python 3",
      "name": "python3"
    },
    "language_info": {
      "codemirror_mode": {
        "name": "ipython",
        "version": 3
      },
      "file_extension": ".py",
      "mimetype": "text/x-python",
      "name": "python",
      "nbconvert_exporter": "python",
      "pygments_lexer": "ipython3",
      "version": "3.12.5"
    }
  },
  "nbformat": 4,
  "nbformat_minor": 0
}
